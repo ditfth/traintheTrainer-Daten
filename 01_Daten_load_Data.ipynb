{
  "nbformat": 4,
  "nbformat_minor": 0,
  "metadata": {
    "cite2c": {
      "citations": {
        "7429414/A3M3BHVX": {
          "URL": "http://archive.ics.uci.edu/ml/datasets/Gas+Sensor+Array+Drift+Dataset+at+Different+Concentrations",
          "accessed": {
            "day": 14,
            "month": 12,
            "year": 2019
          },
          "id": "7429414/A3M3BHVX",
          "title": "UCI Machine Learning Repository: Gas Sensor Array Drift Dataset at Different Concentrations Data Set",
          "type": "webpage"
        },
        "7429414/F5MSIETD": {
          "URL": "https://scikit-learn.org/stable/modules/feature_selection.html",
          "accessed": {
            "day": 14,
            "month": 12,
            "year": 2019
          },
          "id": "7429414/F5MSIETD",
          "title": "1.13. Feature selection — scikit-learn 0.22 documentation",
          "type": "webpage"
        },
        "7429414/P3YHU5HB": {
          "URL": "https://github.com/pandas-profiling/pandas-profiling",
          "accessed": {
            "day": 14,
            "month": 12,
            "year": 2019
          },
          "id": "7429414/P3YHU5HB",
          "title": "pandas-profiling/pandas-profiling: Create HTML profiling reports from pandas DataFrame objects",
          "type": "webpage"
        },
        "7429414/PJ6TJEXS": {
          "URL": "https://pandas.pydata.org/pandas-docs/stable/user_guide/indexing.html",
          "accessed": {
            "day": 16,
            "month": 12,
            "year": 2019
          },
          "id": "7429414/PJ6TJEXS",
          "title": "Indexing and selecting data — pandas 0.25.3 documentation",
          "type": "webpage"
        },
        "7429414/WP7NDQ54": {
          "URL": "https://scikit-learn.org/stable/auto_examples/model_selection/plot_cv_indices.html#sphx-glr-auto-examples-model-selection-plot-cv-indices-py",
          "accessed": {
            "day": 14,
            "month": 12,
            "year": 2019
          },
          "id": "7429414/WP7NDQ54",
          "title": "Visualizing cross-validation behavior in scikit-learn — scikit-learn 0.22 documentation",
          "type": "webpage"
        },
        "7429414/YMEC4PBD": {
          "URL": "https://www.shanelynn.ie/select-pandas-dataframe-rows-and-columns-using-iloc-loc-and-ix/",
          "abstract": "Pandas Data Selection There are multiple ways to select and index rows and columns from Pandas DataFrames. I find tutorials online focusing on advanced selections of row and column choices a little…",
          "accessed": {
            "day": 14,
            "month": 12,
            "year": 2019
          },
          "author": [
            {
              "family": "shanelynn",
              "given": ""
            }
          ],
          "container-title": "Shane Lynn",
          "id": "7429414/YMEC4PBD",
          "issued": {
            "day": 2,
            "month": 10,
            "year": 2016
          },
          "language": "en-US",
          "title": "Using iloc, loc, & ix to select rows and columns in Pandas DataFrames",
          "type": "webpage"
        }
      }
    },
    "kernelspec": {
      "display_name": "Python 3",
      "language": "python",
      "name": "python3"
    },
    "language_info": {
      "codemirror_mode": {
        "name": "ipython",
        "version": 3
      },
      "file_extension": ".py",
      "mimetype": "text/x-python",
      "name": "python",
      "nbconvert_exporter": "python",
      "pygments_lexer": "ipython3",
      "version": "3.7.7"
    },
    "colab": {
      "name": "01_Daten_load_Data.ipynb",
      "provenance": [],
      "toc_visible": true,
      "include_colab_link": true
    }
  },
  "cells": [
    {
      "cell_type": "markdown",
      "metadata": {
        "id": "view-in-github",
        "colab_type": "text"
      },
      "source": [
        "<a href=\"https://colab.research.google.com/github/r1marcus/TraintheTrainer-Daten/blob/main/01_Daten_load_Data.ipynb\" target=\"_parent\"><img src=\"https://colab.research.google.com/assets/colab-badge.svg\" alt=\"Open In Colab\"/></a>"
      ]
    },
    {
      "cell_type": "markdown",
      "metadata": {
        "id": "t-2zQ-bGsBLv"
      },
      "source": [
        "# Modul Daten"
      ]
    },
    {
      "cell_type": "markdown",
      "metadata": {
        "id": "_nuVrwV8sBLw"
      },
      "source": [
        "Dieses Jupyter Notebook soll einen Überblick über die Aufbereitung, Bereinigung und Visualisierung von Daten vermitteln. \n",
        "\n",
        "Für diesen Zweck wurde die Datenbank Gas Sensor Array Drift verwendet, heruntergeladen und vorher für diesen Zweck manipuliert (Gas- und Konzentrationsklassenlaben wurden zu einem Label zusammen geführt und dabei drei verschiedene Konzentrationsstufen definiert: low, medium und high). <br>\n",
        "Der vollständige Datensatz kann auf <br>\n",
        "\n",
        "http://archive.ics.uci.edu/ml/datasets/Gas+Sensor+Array+Drift+Dataset+at+Different+Concentrations\n",
        "\n",
        "heruntergeladen werden. Außerdem werden verschiedene Informationen zu den Daten bereitgestellt. <br>\n",
        "\n",
        "Der Datensatz enthält 13.910 Messungen von 16 chemischen Sensoren, welche abwechselnd sechs verschiedene Gase (Ethanol, Ethen, Ammoniak, Acetaldehyd, Aceton und Toluol) in verschiedenen Konzentrationen untersuchen. <br>\n",
        "Der Datensatz wurde zwischen Januar 2008 und Februar 2011 (36 Monaten) erhoben. <br>\n",
        "Jede Messung liefert anhand der 16 vorhandenen Sensoren eine 16-Kanal-Zeitreihe. <br>\n",
        "Es werden zwei Hauptfeatures in diesem Datensatz betrachtet: <br>\n",
        "$\\rightarrow~$ (i) das stationäre Feature (steady-state) bezeichnet als `DR`, definiert als die maximale Widerstandsänderung in Bezug auf eine Basis, sowie die normalisierte Version davon (`|DR|`). <br>\n",
        "$\\rightarrow~$ (ii) ein Ansammlung an Features welche die Sensordynamik der gesamten Messung wiederspiegelt (`EMAi` und `EMAd` für verschiedene $\\alpha$-Werte). <br>\n",
        "\n",
        "Im folgendem Beispiel werden wir uns nur mit dem `DR` Feature auseinandersetzen. Da jeder der 16 Sensoren diesen Messwert liefert, sind auch 16 verschiedene Messwerte von `DR` vorhanden (`DR_1` des ersten Sensors, `DR_2`, des zweiten Sensorns und wo weiter). "
      ]
    },
    {
      "cell_type": "markdown",
      "metadata": {
        "id": "_LowMEZrsBLy"
      },
      "source": [
        "## Laden des Pandas DataFrames"
      ]
    },
    {
      "cell_type": "markdown",
      "metadata": {
        "id": "DIjon6WTsBL0"
      },
      "source": [
        "Als erstes müssen alle Beispieldatensätze geladen werden. Dieser liegen in 10 verschiedene csv Dateien vor (batch0.csv bis batch9.csv). Anschließend werden diese zu einem gemeinsamen Datensatz zusammengeführt."
      ]
    },
    {
      "cell_type": "code",
      "metadata": {
        "id": "oJomzcycv3QT",
        "outputId": "470434e0-9ad2-43c8-fb14-5bdc6460c178",
        "colab": {
          "base_uri": "https://localhost:8080/",
          "height": 146
        }
      },
      "source": [
        "!rm -r /content/TraintheTrainer-Daten\n",
        "!git clone https://github.com/r1marcus/TraintheTrainer-Daten.git\n",
        "!echo $CWD\n",
        "!cp -rf /content/TraintheTrainer-Daten/* /content/\n",
        "!rm -r /content/TraintheTrainer-Daten"
      ],
      "execution_count": 13,
      "outputs": [
        {
          "output_type": "stream",
          "text": [
            "Cloning into 'TraintheTrainer-Daten'...\n",
            "remote: Enumerating objects: 43, done.\u001b[K\n",
            "remote: Counting objects: 100% (43/43), done.\u001b[K\n",
            "remote: Compressing objects: 100% (41/41), done.\u001b[K\n",
            "remote: Total 43 (delta 13), reused 0 (delta 0), pack-reused 0\u001b[K\n",
            "Unpacking objects: 100% (43/43), done.\n",
            "\n"
          ],
          "name": "stdout"
        }
      ]
    },
    {
      "cell_type": "code",
      "metadata": {
        "id": "0NwltjBnsBL2"
      },
      "source": [
        "import scripts.load\n",
        "\n"
      ],
      "execution_count": 2,
      "outputs": []
    },
    {
      "cell_type": "code",
      "metadata": {
        "id": "tIxV7wSnsBL_"
      },
      "source": [
        ""
      ],
      "execution_count": null,
      "outputs": []
    },
    {
      "cell_type": "code",
      "metadata": {
        "id": "3qHMPnHqsBMF",
        "outputId": "521c78f1-211d-4401-f6fd-5ac8fbc17a51",
        "colab": {
          "base_uri": "https://localhost:8080/",
          "height": 458
        }
      },
      "source": [
        "df_modified, df_original,all_files_mod,all_files_original = scripts.load.load()\n"
      ],
      "execution_count": 3,
      "outputs": [
        {
          "output_type": "stream",
          "text": [
            "Download dataset from URL: http://archive.ics.uci.edu/ml/machine-learning-databases/00270/\n",
            "Extract files to : /content/input/dataset_dat//driftdataset.zip\n",
            "Convert dat files to csv\n",
            "445 lines have been written for batch 1\n",
            "1244 lines have been written for batch 2\n",
            "1586 lines have been written for batch 3\n",
            "161 lines have been written for batch 4\n",
            "197 lines have been written for batch 5\n",
            "2300 lines have been written for batch 6\n",
            "3613 lines have been written for batch 7\n",
            "294 lines have been written for batch 8\n",
            "470 lines have been written for batch 9\n",
            "3600 lines have been written for batch 10\n",
            "13910 lines have been written in total\n",
            "call load_svmlight_file for batch1.csv\n",
            "call load_svmlight_file for batch2.csv\n",
            "call load_svmlight_file for batch3.csv\n",
            "call load_svmlight_file for batch4.csv\n",
            "call load_svmlight_file for batch5.csv\n",
            "call load_svmlight_file for batch6.csv\n",
            "call load_svmlight_file for batch7.csv\n",
            "call load_svmlight_file for batch8.csv\n",
            "call load_svmlight_file for batch9.csv\n",
            "call load_svmlight_file for batch10.csv\n"
          ],
          "name": "stdout"
        }
      ]
    },
    {
      "cell_type": "markdown",
      "metadata": {
        "id": "yOf5D0DPsBMK"
      },
      "source": [
        "## Ein kurzer Blick auf die Datenstruktur"
      ]
    },
    {
      "cell_type": "markdown",
      "metadata": {
        "id": "75ShQS37sBMK"
      },
      "source": [
        "Um ein Gefühl für die Datenstruktur zu erhalten bietet Pandas die folgenden Methoden an: <br>\n",
        "\n",
        "`head(n)` $\\longrightarrow~$ Gibt die $n$ ersten Zeilen (default $n$ = 5) aus. Nützlich um schnell zu testen, ob das Objekt im richtigen Datentyp vorliegt. <br>\n",
        "`info()` $\\longrightarrow~$ Gibt eine übersichtliche Zusammenfassung des DataFrames aus, einschließlich des Index dtypes, des Spalten dtypes, Nicht-Null-Werte sowie den Speicherverbrauch. <br>\n",
        "`describe()` $\\longrightarrow~$ Erstellt deskriptive Statistiken, welche die zentrale Tendenz, Verteilung und Form der Verteilung eines Datensatzes unter Ausschluss von NaN-Werten zusammenfasst. <br>\n",
        "`value_count()` $\\longrightarrow~$ Gibt die Anzahl eindeutiger Werte in absteigender Reihenfolge wieder. Muss an einem Feature aufgerufen werden."
      ]
    },
    {
      "cell_type": "markdown",
      "metadata": {
        "id": "vsBjx7losBMM"
      },
      "source": [
        "Werfen wir als erstes ein Blick auf die `head()` Methode:"
      ]
    },
    {
      "cell_type": "code",
      "metadata": {
        "id": "Mmy90tm-sBMN",
        "outputId": "4fe32d4e-2256-45c9-a086-60b819924f54",
        "colab": {
          "base_uri": "https://localhost:8080/",
          "height": 342
        }
      },
      "source": [
        "df_modified.head()"
      ],
      "execution_count": 4,
      "outputs": [
        {
          "output_type": "execute_result",
          "data": {
            "text/html": [
              "<div>\n",
              "<style scoped>\n",
              "    .dataframe tbody tr th:only-of-type {\n",
              "        vertical-align: middle;\n",
              "    }\n",
              "\n",
              "    .dataframe tbody tr th {\n",
              "        vertical-align: top;\n",
              "    }\n",
              "\n",
              "    .dataframe thead th {\n",
              "        text-align: right;\n",
              "    }\n",
              "</style>\n",
              "<table border=\"1\" class=\"dataframe\">\n",
              "  <thead>\n",
              "    <tr style=\"text-align: right;\">\n",
              "      <th></th>\n",
              "      <th>target</th>\n",
              "      <th>DR_1</th>\n",
              "      <th>|DR|_1</th>\n",
              "      <th>EMAi0.001_1</th>\n",
              "      <th>EMAi0.01_1</th>\n",
              "      <th>EMAi0.1_1</th>\n",
              "      <th>EMAd0.001_1</th>\n",
              "      <th>EMAd0.01_1</th>\n",
              "      <th>EMAd0.1_1</th>\n",
              "      <th>DR_2</th>\n",
              "      <th>|DR|_2</th>\n",
              "      <th>EMAi0.001_2</th>\n",
              "      <th>EMAi0.01_2</th>\n",
              "      <th>EMAi0.1_2</th>\n",
              "      <th>EMAd0.001_2</th>\n",
              "      <th>EMAd0.01_2</th>\n",
              "      <th>EMAd0.1_2</th>\n",
              "      <th>DR_3</th>\n",
              "      <th>|DR|_3</th>\n",
              "      <th>EMAi0.001_3</th>\n",
              "      <th>EMAi0.01_3</th>\n",
              "      <th>EMAi0.1_3</th>\n",
              "      <th>EMAd0.001_3</th>\n",
              "      <th>EMAd0.01_3</th>\n",
              "      <th>EMAd0.1_3</th>\n",
              "      <th>DR_4</th>\n",
              "      <th>|DR|_4</th>\n",
              "      <th>EMAi0.001_4</th>\n",
              "      <th>EMAi0.01_4</th>\n",
              "      <th>EMAi0.1_4</th>\n",
              "      <th>EMAd0.001_4</th>\n",
              "      <th>EMAd0.01_4</th>\n",
              "      <th>EMAd0.1_4</th>\n",
              "      <th>DR_5</th>\n",
              "      <th>|DR|_5</th>\n",
              "      <th>EMAi0.001_5</th>\n",
              "      <th>EMAi0.01_5</th>\n",
              "      <th>EMAi0.1_5</th>\n",
              "      <th>EMAd0.001_5</th>\n",
              "      <th>EMAd0.01_5</th>\n",
              "      <th>...</th>\n",
              "      <th>DR_12</th>\n",
              "      <th>|DR|_12</th>\n",
              "      <th>EMAi0.001_12</th>\n",
              "      <th>EMAi0.01_12</th>\n",
              "      <th>EMAi0.1_12</th>\n",
              "      <th>EMAd0.001_12</th>\n",
              "      <th>EMAd0.01_12</th>\n",
              "      <th>EMAd0.1_12</th>\n",
              "      <th>DR_13</th>\n",
              "      <th>|DR|_13</th>\n",
              "      <th>EMAi0.001_13</th>\n",
              "      <th>EMAi0.01_13</th>\n",
              "      <th>EMAi0.1_13</th>\n",
              "      <th>EMAd0.001_13</th>\n",
              "      <th>EMAd0.01_13</th>\n",
              "      <th>EMAd0.1_13</th>\n",
              "      <th>DR_14</th>\n",
              "      <th>|DR|_14</th>\n",
              "      <th>EMAi0.001_14</th>\n",
              "      <th>EMAi0.01_14</th>\n",
              "      <th>EMAi0.1_14</th>\n",
              "      <th>EMAd0.001_14</th>\n",
              "      <th>EMAd0.01_14</th>\n",
              "      <th>EMAd0.1_14</th>\n",
              "      <th>DR_15</th>\n",
              "      <th>|DR|_15</th>\n",
              "      <th>EMAi0.001_15</th>\n",
              "      <th>EMAi0.01_15</th>\n",
              "      <th>EMAi0.1_15</th>\n",
              "      <th>EMAd0.001_15</th>\n",
              "      <th>EMAd0.01_15</th>\n",
              "      <th>EMAd0.1_15</th>\n",
              "      <th>DR_16</th>\n",
              "      <th>|DR|_16</th>\n",
              "      <th>EMAi0.001_16</th>\n",
              "      <th>EMAi0.01_16</th>\n",
              "      <th>EMAi0.1_16</th>\n",
              "      <th>EMAd0.001_16</th>\n",
              "      <th>EMAd0.01_16</th>\n",
              "      <th>EMAd0.1_16</th>\n",
              "    </tr>\n",
              "  </thead>\n",
              "  <tbody>\n",
              "    <tr>\n",
              "      <th>0</th>\n",
              "      <td>Aceton medium</td>\n",
              "      <td>14273.577305</td>\n",
              "      <td>3.024320</td>\n",
              "      <td>2.938083</td>\n",
              "      <td>2.726658</td>\n",
              "      <td>9.160230</td>\n",
              "      <td>-1.088828</td>\n",
              "      <td>-2.553627</td>\n",
              "      <td>-10.008018</td>\n",
              "      <td>1616.000362</td>\n",
              "      <td>13.890712</td>\n",
              "      <td>0.065627</td>\n",
              "      <td>1.832977</td>\n",
              "      <td>3.794835</td>\n",
              "      <td>-0.626880</td>\n",
              "      <td>-2.216111</td>\n",
              "      <td>-3.727923</td>\n",
              "      <td>6427.087984</td>\n",
              "      <td>2.809918</td>\n",
              "      <td>1.644583</td>\n",
              "      <td>2.532359</td>\n",
              "      <td>6.366296</td>\n",
              "      <td>-1.083000</td>\n",
              "      <td>-1.859664</td>\n",
              "      <td>-7.400924</td>\n",
              "      <td>6398.330797</td>\n",
              "      <td>2.600863</td>\n",
              "      <td>1.582393</td>\n",
              "      <td>2.253560</td>\n",
              "      <td>6.377379</td>\n",
              "      <td>-0.983363</td>\n",
              "      <td>-1.951279</td>\n",
              "      <td>-7.636000</td>\n",
              "      <td>1664.318035</td>\n",
              "      <td>1.712735</td>\n",
              "      <td>0.479783</td>\n",
              "      <td>0.937948</td>\n",
              "      <td>3.270469</td>\n",
              "      <td>-0.270650</td>\n",
              "      <td>-0.684654</td>\n",
              "      <td>...</td>\n",
              "      <td>5754.598582</td>\n",
              "      <td>2.540110</td>\n",
              "      <td>1.363714</td>\n",
              "      <td>2.118585</td>\n",
              "      <td>3.919899</td>\n",
              "      <td>-0.891826</td>\n",
              "      <td>-1.491210</td>\n",
              "      <td>-4.799816</td>\n",
              "      <td>2309.367190</td>\n",
              "      <td>1.854152</td>\n",
              "      <td>0.644808</td>\n",
              "      <td>1.406715</td>\n",
              "      <td>3.644021</td>\n",
              "      <td>-0.395535</td>\n",
              "      <td>-0.659693</td>\n",
              "      <td>-3.172405</td>\n",
              "      <td>2480.520182</td>\n",
              "      <td>1.839672</td>\n",
              "      <td>0.601987</td>\n",
              "      <td>1.240567</td>\n",
              "      <td>3.631822</td>\n",
              "      <td>-0.365433</td>\n",
              "      <td>-0.663033</td>\n",
              "      <td>-2.662408</td>\n",
              "      <td>9574.647480</td>\n",
              "      <td>2.868638</td>\n",
              "      <td>2.051181</td>\n",
              "      <td>3.511200</td>\n",
              "      <td>6.889017</td>\n",
              "      <td>-1.414937</td>\n",
              "      <td>-2.603527</td>\n",
              "      <td>-7.025044</td>\n",
              "      <td>9204.196428</td>\n",
              "      <td>2.878063</td>\n",
              "      <td>1.929711</td>\n",
              "      <td>2.851631</td>\n",
              "      <td>5.784202</td>\n",
              "      <td>-1.375681</td>\n",
              "      <td>-2.058877</td>\n",
              "      <td>-6.341305</td>\n",
              "    </tr>\n",
              "    <tr>\n",
              "      <th>1</th>\n",
              "      <td>Acetaldehyd medium</td>\n",
              "      <td>19183.742717</td>\n",
              "      <td>4.357248</td>\n",
              "      <td>5.351283</td>\n",
              "      <td>6.450441</td>\n",
              "      <td>10.872395</td>\n",
              "      <td>-3.153488</td>\n",
              "      <td>-4.326323</td>\n",
              "      <td>-13.631954</td>\n",
              "      <td>32779.114891</td>\n",
              "      <td>11.340203</td>\n",
              "      <td>9.239101</td>\n",
              "      <td>13.293717</td>\n",
              "      <td>22.242999</td>\n",
              "      <td>-6.458544</td>\n",
              "      <td>-21.354226</td>\n",
              "      <td>-90.474834</td>\n",
              "      <td>13501.751635</td>\n",
              "      <td>3.877614</td>\n",
              "      <td>4.320766</td>\n",
              "      <td>7.807666</td>\n",
              "      <td>13.339435</td>\n",
              "      <td>-2.905348</td>\n",
              "      <td>-4.666630</td>\n",
              "      <td>-13.381673</td>\n",
              "      <td>13138.149759</td>\n",
              "      <td>3.729742</td>\n",
              "      <td>4.354278</td>\n",
              "      <td>8.237309</td>\n",
              "      <td>12.779460</td>\n",
              "      <td>-2.891614</td>\n",
              "      <td>-4.771663</td>\n",
              "      <td>-13.973791</td>\n",
              "      <td>3533.332016</td>\n",
              "      <td>2.520985</td>\n",
              "      <td>1.387820</td>\n",
              "      <td>3.959387</td>\n",
              "      <td>7.226592</td>\n",
              "      <td>-0.875622</td>\n",
              "      <td>-1.673741</td>\n",
              "      <td>...</td>\n",
              "      <td>12762.294711</td>\n",
              "      <td>3.833807</td>\n",
              "      <td>3.810493</td>\n",
              "      <td>6.410521</td>\n",
              "      <td>8.636354</td>\n",
              "      <td>-2.640514</td>\n",
              "      <td>-3.715027</td>\n",
              "      <td>-8.943377</td>\n",
              "      <td>4484.238742</td>\n",
              "      <td>2.534278</td>\n",
              "      <td>1.706882</td>\n",
              "      <td>5.160090</td>\n",
              "      <td>7.611733</td>\n",
              "      <td>-1.008812</td>\n",
              "      <td>-1.742027</td>\n",
              "      <td>-3.795255</td>\n",
              "      <td>4361.580382</td>\n",
              "      <td>2.459243</td>\n",
              "      <td>1.677987</td>\n",
              "      <td>4.050821</td>\n",
              "      <td>6.133668</td>\n",
              "      <td>-0.911240</td>\n",
              "      <td>-1.473621</td>\n",
              "      <td>-3.553569</td>\n",
              "      <td>20587.874047</td>\n",
              "      <td>4.577326</td>\n",
              "      <td>6.864667</td>\n",
              "      <td>13.242215</td>\n",
              "      <td>17.784286</td>\n",
              "      <td>-4.804865</td>\n",
              "      <td>-7.447718</td>\n",
              "      <td>-14.405438</td>\n",
              "      <td>18558.609048</td>\n",
              "      <td>4.406637</td>\n",
              "      <td>6.112619</td>\n",
              "      <td>10.939485</td>\n",
              "      <td>15.560763</td>\n",
              "      <td>-4.029051</td>\n",
              "      <td>-6.189030</td>\n",
              "      <td>-12.722531</td>\n",
              "    </tr>\n",
              "    <tr>\n",
              "      <th>2</th>\n",
              "      <td>Aceton medium</td>\n",
              "      <td>10348.227144</td>\n",
              "      <td>2.892709</td>\n",
              "      <td>2.513980</td>\n",
              "      <td>3.315183</td>\n",
              "      <td>7.719371</td>\n",
              "      <td>-2.329644</td>\n",
              "      <td>-2.840900</td>\n",
              "      <td>-10.222801</td>\n",
              "      <td>33021.895913</td>\n",
              "      <td>1.298981</td>\n",
              "      <td>7.282501</td>\n",
              "      <td>9.832498</td>\n",
              "      <td>15.060181</td>\n",
              "      <td>-4.554793</td>\n",
              "      <td>-6.859986</td>\n",
              "      <td>-22.271768</td>\n",
              "      <td>6916.928390</td>\n",
              "      <td>2.625112</td>\n",
              "      <td>1.695209</td>\n",
              "      <td>2.617707</td>\n",
              "      <td>6.490257</td>\n",
              "      <td>-1.130966</td>\n",
              "      <td>-1.798130</td>\n",
              "      <td>-8.096225</td>\n",
              "      <td>6010.516346</td>\n",
              "      <td>2.438325</td>\n",
              "      <td>1.593136</td>\n",
              "      <td>2.925605</td>\n",
              "      <td>6.128234</td>\n",
              "      <td>-1.091027</td>\n",
              "      <td>-2.012148</td>\n",
              "      <td>-7.936757</td>\n",
              "      <td>1684.378924</td>\n",
              "      <td>1.806566</td>\n",
              "      <td>0.562898</td>\n",
              "      <td>1.014501</td>\n",
              "      <td>4.406864</td>\n",
              "      <td>-0.328156</td>\n",
              "      <td>-0.810867</td>\n",
              "      <td>...</td>\n",
              "      <td>6227.614688</td>\n",
              "      <td>2.477222</td>\n",
              "      <td>1.488496</td>\n",
              "      <td>1.766931</td>\n",
              "      <td>4.541895</td>\n",
              "      <td>-0.940447</td>\n",
              "      <td>-1.418934</td>\n",
              "      <td>-4.318310</td>\n",
              "      <td>2488.615782</td>\n",
              "      <td>1.940033</td>\n",
              "      <td>0.729604</td>\n",
              "      <td>1.193182</td>\n",
              "      <td>3.213898</td>\n",
              "      <td>-0.429049</td>\n",
              "      <td>-0.785777</td>\n",
              "      <td>-3.177144</td>\n",
              "      <td>2746.199527</td>\n",
              "      <td>1.898727</td>\n",
              "      <td>0.673266</td>\n",
              "      <td>1.264984</td>\n",
              "      <td>3.253012</td>\n",
              "      <td>-0.387956</td>\n",
              "      <td>-0.692665</td>\n",
              "      <td>-3.078034</td>\n",
              "      <td>10134.424917</td>\n",
              "      <td>2.812022</td>\n",
              "      <td>2.523820</td>\n",
              "      <td>3.231065</td>\n",
              "      <td>6.992326</td>\n",
              "      <td>-1.805799</td>\n",
              "      <td>-2.744733</td>\n",
              "      <td>-7.404107</td>\n",
              "      <td>8615.469855</td>\n",
              "      <td>2.798972</td>\n",
              "      <td>1.906785</td>\n",
              "      <td>2.826327</td>\n",
              "      <td>5.702202</td>\n",
              "      <td>-1.371283</td>\n",
              "      <td>-2.398717</td>\n",
              "      <td>-6.272815</td>\n",
              "    </tr>\n",
              "    <tr>\n",
              "      <th>3</th>\n",
              "      <td>Acetaldehyd medium</td>\n",
              "      <td>16016.935601</td>\n",
              "      <td>3.524554</td>\n",
              "      <td>3.446228</td>\n",
              "      <td>3.858046</td>\n",
              "      <td>8.080305</td>\n",
              "      <td>-2.383137</td>\n",
              "      <td>-4.299175</td>\n",
              "      <td>-10.630594</td>\n",
              "      <td>28158.243096</td>\n",
              "      <td>-11.516644</td>\n",
              "      <td>8.739770</td>\n",
              "      <td>14.167981</td>\n",
              "      <td>17.563641</td>\n",
              "      <td>-10.842535</td>\n",
              "      <td>-43.908037</td>\n",
              "      <td>-100.421353</td>\n",
              "      <td>13454.689312</td>\n",
              "      <td>3.805564</td>\n",
              "      <td>4.173674</td>\n",
              "      <td>7.725053</td>\n",
              "      <td>11.070560</td>\n",
              "      <td>-2.828587</td>\n",
              "      <td>-4.722814</td>\n",
              "      <td>-13.844055</td>\n",
              "      <td>13156.418378</td>\n",
              "      <td>3.593533</td>\n",
              "      <td>4.335864</td>\n",
              "      <td>8.435083</td>\n",
              "      <td>13.599997</td>\n",
              "      <td>-2.814152</td>\n",
              "      <td>-4.610665</td>\n",
              "      <td>-13.685235</td>\n",
              "      <td>3592.771859</td>\n",
              "      <td>2.445125</td>\n",
              "      <td>1.405718</td>\n",
              "      <td>4.128753</td>\n",
              "      <td>7.337663</td>\n",
              "      <td>-0.824154</td>\n",
              "      <td>-1.655907</td>\n",
              "      <td>...</td>\n",
              "      <td>12418.923323</td>\n",
              "      <td>3.701550</td>\n",
              "      <td>3.659455</td>\n",
              "      <td>6.122430</td>\n",
              "      <td>9.013708</td>\n",
              "      <td>-2.664477</td>\n",
              "      <td>-3.628107</td>\n",
              "      <td>-7.414914</td>\n",
              "      <td>4443.382391</td>\n",
              "      <td>2.431713</td>\n",
              "      <td>1.702189</td>\n",
              "      <td>4.895521</td>\n",
              "      <td>7.343933</td>\n",
              "      <td>-1.003530</td>\n",
              "      <td>-1.731181</td>\n",
              "      <td>-4.002193</td>\n",
              "      <td>4355.735511</td>\n",
              "      <td>2.435027</td>\n",
              "      <td>1.597393</td>\n",
              "      <td>4.010580</td>\n",
              "      <td>6.137122</td>\n",
              "      <td>-0.896229</td>\n",
              "      <td>-1.505073</td>\n",
              "      <td>-3.702279</td>\n",
              "      <td>20099.996283</td>\n",
              "      <td>4.385018</td>\n",
              "      <td>6.986860</td>\n",
              "      <td>13.259128</td>\n",
              "      <td>16.647219</td>\n",
              "      <td>-4.856891</td>\n",
              "      <td>-7.048007</td>\n",
              "      <td>-16.391256</td>\n",
              "      <td>17823.751293</td>\n",
              "      <td>4.270726</td>\n",
              "      <td>5.988227</td>\n",
              "      <td>10.633137</td>\n",
              "      <td>14.840813</td>\n",
              "      <td>-4.002215</td>\n",
              "      <td>-6.344139</td>\n",
              "      <td>-12.682860</td>\n",
              "    </tr>\n",
              "    <tr>\n",
              "      <th>4</th>\n",
              "      <td>Aceton medium</td>\n",
              "      <td>13857.085671</td>\n",
              "      <td>3.518114</td>\n",
              "      <td>2.966667</td>\n",
              "      <td>3.771898</td>\n",
              "      <td>9.469236</td>\n",
              "      <td>-2.339873</td>\n",
              "      <td>-3.246363</td>\n",
              "      <td>-9.471999</td>\n",
              "      <td>35827.740554</td>\n",
              "      <td>-11.786747</td>\n",
              "      <td>8.436356</td>\n",
              "      <td>10.518595</td>\n",
              "      <td>17.347171</td>\n",
              "      <td>-5.999937</td>\n",
              "      <td>-14.315570</td>\n",
              "      <td>-60.820169</td>\n",
              "      <td>6212.945461</td>\n",
              "      <td>2.605141</td>\n",
              "      <td>NaN</td>\n",
              "      <td>2.274947</td>\n",
              "      <td>6.521775</td>\n",
              "      <td>-1.135103</td>\n",
              "      <td>-1.883304</td>\n",
              "      <td>-8.434778</td>\n",
              "      <td>6235.155860</td>\n",
              "      <td>2.669623</td>\n",
              "      <td>1.561229</td>\n",
              "      <td>2.527245</td>\n",
              "      <td>7.131634</td>\n",
              "      <td>-0.989764</td>\n",
              "      <td>-1.951753</td>\n",
              "      <td>-7.796800</td>\n",
              "      <td>2019.038516</td>\n",
              "      <td>1.995958</td>\n",
              "      <td>0.530531</td>\n",
              "      <td>1.159130</td>\n",
              "      <td>3.745877</td>\n",
              "      <td>-0.356161</td>\n",
              "      <td>-0.833311</td>\n",
              "      <td>...</td>\n",
              "      <td>5798.776137</td>\n",
              "      <td>2.623479</td>\n",
              "      <td>1.269891</td>\n",
              "      <td>2.192880</td>\n",
              "      <td>4.046226</td>\n",
              "      <td>-0.940418</td>\n",
              "      <td>-1.352118</td>\n",
              "      <td>-4.264944</td>\n",
              "      <td>2748.083133</td>\n",
              "      <td>2.028579</td>\n",
              "      <td>0.672625</td>\n",
              "      <td>1.321326</td>\n",
              "      <td>3.582363</td>\n",
              "      <td>-0.435633</td>\n",
              "      <td>-0.711061</td>\n",
              "      <td>-2.730252</td>\n",
              "      <td>2944.145793</td>\n",
              "      <td>1.986899</td>\n",
              "      <td>0.693554</td>\n",
              "      <td>1.240022</td>\n",
              "      <td>3.007655</td>\n",
              "      <td>-0.421205</td>\n",
              "      <td>-0.677948</td>\n",
              "      <td>-3.358631</td>\n",
              "      <td>10317.189262</td>\n",
              "      <td>2.966717</td>\n",
              "      <td>2.089586</td>\n",
              "      <td>3.581028</td>\n",
              "      <td>6.415410</td>\n",
              "      <td>-1.625821</td>\n",
              "      <td>-2.505347</td>\n",
              "      <td>-6.133687</td>\n",
              "      <td>8570.101725</td>\n",
              "      <td>2.962839</td>\n",
              "      <td>1.997988</td>\n",
              "      <td>2.536249</td>\n",
              "      <td>5.028250</td>\n",
              "      <td>-1.375922</td>\n",
              "      <td>-2.190011</td>\n",
              "      <td>-6.192845</td>\n",
              "    </tr>\n",
              "  </tbody>\n",
              "</table>\n",
              "<p>5 rows × 129 columns</p>\n",
              "</div>"
            ],
            "text/plain": [
              "               target          DR_1  ...  EMAd0.01_16  EMAd0.1_16\n",
              "0       Aceton medium  14273.577305  ...    -2.058877   -6.341305\n",
              "1  Acetaldehyd medium  19183.742717  ...    -6.189030  -12.722531\n",
              "2       Aceton medium  10348.227144  ...    -2.398717   -6.272815\n",
              "3  Acetaldehyd medium  16016.935601  ...    -6.344139  -12.682860\n",
              "4       Aceton medium  13857.085671  ...    -2.190011   -6.192845\n",
              "\n",
              "[5 rows x 129 columns]"
            ]
          },
          "metadata": {
            "tags": []
          },
          "execution_count": 4
        }
      ]
    },
    {
      "cell_type": "markdown",
      "metadata": {
        "id": "lCJKUyQ-sBMS"
      },
      "source": [
        "Die erste Spalte verät uns das Klassenlabel. Die erste Instanz ist demnach eine Messung am Gas Ethanol bei niedriger Konzentration. Alle weitere Spalten beinhalten Daten die zu diesem Zeitpunkt bzw. Messpunkt erhoben worden sind. <br>\n",
        "\n",
        "Rufen wir die `info()` Methode an den ersten fünf Spalten auf."
      ]
    },
    {
      "cell_type": "code",
      "metadata": {
        "id": "OnljC1VwsBMT",
        "outputId": "057bc104-7ba2-4caa-883d-21bc5eaf25f5",
        "colab": {
          "base_uri": "https://localhost:8080/",
          "height": 237
        }
      },
      "source": [
        "df_modified.iloc[:,:5].info()"
      ],
      "execution_count": 5,
      "outputs": [
        {
          "output_type": "stream",
          "text": [
            "<class 'pandas.core.frame.DataFrame'>\n",
            "RangeIndex: 13910 entries, 0 to 13909\n",
            "Data columns (total 5 columns):\n",
            " #   Column       Non-Null Count  Dtype  \n",
            "---  ------       --------------  -----  \n",
            " 0   target       13910 non-null  object \n",
            " 1   DR_1         13892 non-null  float64\n",
            " 2   |DR|_1       13891 non-null  float64\n",
            " 3   EMAi0.001_1  13896 non-null  float64\n",
            " 4   EMAi0.01_1   13889 non-null  float64\n",
            "dtypes: float64(4), object(1)\n",
            "memory usage: 543.5+ KB\n"
          ],
          "name": "stdout"
        }
      ]
    },
    {
      "cell_type": "markdown",
      "metadata": {
        "id": "_GZpwK4hsBMZ"
      },
      "source": [
        "Für Pandas Indexing und Slicing siehe https://pandas.pydata.org/pandas-docs/stable/user_guide/indexing.html. <br>\n",
        "\n",
        "`info()` listet uns die verschiedene dtypes auf: vier float64 und eins vom Typ object. Anhand der unterschiedlichen Instanzen (total: 13910, DR_1: 13892, ...) erkennen wir, dass der Datensatz unvollständig ist (NaNs können ein Grund dafür sein). <br>"
      ]
    },
    {
      "cell_type": "markdown",
      "metadata": {
        "id": "mzQtu3a2sBMZ"
      },
      "source": [
        "Werfen wir als nächstes ein Blick auf die `describe()` Methode."
      ]
    },
    {
      "cell_type": "code",
      "metadata": {
        "id": "4IFDTKcnsBMa",
        "outputId": "283421b4-7c15-409e-c548-08512c65555a",
        "colab": {
          "base_uri": "https://localhost:8080/",
          "height": 300
        }
      },
      "source": [
        "df_modified.iloc[:,:5].describe()"
      ],
      "execution_count": 6,
      "outputs": [
        {
          "output_type": "execute_result",
          "data": {
            "text/html": [
              "<div>\n",
              "<style scoped>\n",
              "    .dataframe tbody tr th:only-of-type {\n",
              "        vertical-align: middle;\n",
              "    }\n",
              "\n",
              "    .dataframe tbody tr th {\n",
              "        vertical-align: top;\n",
              "    }\n",
              "\n",
              "    .dataframe thead th {\n",
              "        text-align: right;\n",
              "    }\n",
              "</style>\n",
              "<table border=\"1\" class=\"dataframe\">\n",
              "  <thead>\n",
              "    <tr style=\"text-align: right;\">\n",
              "      <th></th>\n",
              "      <th>DR_1</th>\n",
              "      <th>|DR|_1</th>\n",
              "      <th>EMAi0.001_1</th>\n",
              "      <th>EMAi0.01_1</th>\n",
              "    </tr>\n",
              "  </thead>\n",
              "  <tbody>\n",
              "    <tr>\n",
              "      <th>count</th>\n",
              "      <td>13892.000000</td>\n",
              "      <td>13891.000000</td>\n",
              "      <td>13896.000000</td>\n",
              "      <td>13889.000000</td>\n",
              "    </tr>\n",
              "    <tr>\n",
              "      <th>mean</th>\n",
              "      <td>50464.654067</td>\n",
              "      <td>6.635809</td>\n",
              "      <td>12.933389</td>\n",
              "      <td>18.736984</td>\n",
              "    </tr>\n",
              "    <tr>\n",
              "      <th>std</th>\n",
              "      <td>70250.969065</td>\n",
              "      <td>13.514586</td>\n",
              "      <td>17.700624</td>\n",
              "      <td>24.983520</td>\n",
              "    </tr>\n",
              "    <tr>\n",
              "      <th>min</th>\n",
              "      <td>-34751.069362</td>\n",
              "      <td>-10.279164</td>\n",
              "      <td>-7.194081</td>\n",
              "      <td>-8.547930</td>\n",
              "    </tr>\n",
              "    <tr>\n",
              "      <th>25%</th>\n",
              "      <td>6837.827239</td>\n",
              "      <td>2.287159</td>\n",
              "      <td>1.707703</td>\n",
              "      <td>2.566592</td>\n",
              "    </tr>\n",
              "    <tr>\n",
              "      <th>50%</th>\n",
              "      <td>21062.623620</td>\n",
              "      <td>3.969886</td>\n",
              "      <td>5.302680</td>\n",
              "      <td>7.753833</td>\n",
              "    </tr>\n",
              "    <tr>\n",
              "      <th>75%</th>\n",
              "      <td>63680.218975</td>\n",
              "      <td>8.607217</td>\n",
              "      <td>17.173314</td>\n",
              "      <td>25.908939</td>\n",
              "    </tr>\n",
              "    <tr>\n",
              "      <th>max</th>\n",
              "      <td>694227.459630</td>\n",
              "      <td>1334.313100</td>\n",
              "      <td>172.668025</td>\n",
              "      <td>225.630056</td>\n",
              "    </tr>\n",
              "  </tbody>\n",
              "</table>\n",
              "</div>"
            ],
            "text/plain": [
              "                DR_1        |DR|_1   EMAi0.001_1    EMAi0.01_1\n",
              "count   13892.000000  13891.000000  13896.000000  13889.000000\n",
              "mean    50464.654067      6.635809     12.933389     18.736984\n",
              "std     70250.969065     13.514586     17.700624     24.983520\n",
              "min    -34751.069362    -10.279164     -7.194081     -8.547930\n",
              "25%      6837.827239      2.287159      1.707703      2.566592\n",
              "50%     21062.623620      3.969886      5.302680      7.753833\n",
              "75%     63680.218975      8.607217     17.173314     25.908939\n",
              "max    694227.459630   1334.313100    172.668025    225.630056"
            ]
          },
          "metadata": {
            "tags": []
          },
          "execution_count": 6
        }
      ]
    },
    {
      "cell_type": "markdown",
      "metadata": {
        "id": "x5naPVSesBMf"
      },
      "source": [
        "`describe()` bietet zusätzliche Informationen zu den jeweiligen Features. Dazu gehört die Anzahl, der Mittelwert (mean), die Standardabweichung (std) sowie das minimale, 25%, 50%, 75% und das maximale Quantil."
      ]
    },
    {
      "cell_type": "code",
      "metadata": {
        "id": "xTb4GLAysBMf",
        "outputId": "c12f651d-cc02-4740-a13f-6302481da662",
        "colab": {
          "base_uri": "https://localhost:8080/",
          "height": 366
        }
      },
      "source": [
        "df_modified['target'].value_counts()"
      ],
      "execution_count": null,
      "outputs": [
        {
          "output_type": "execute_result",
          "data": {
            "text/plain": [
              "Aceton high           1834\n",
              "Toluol low            1425\n",
              "Ethen low             1190\n",
              "Ammoniak high         1156\n",
              "Ethanol low           1083\n",
              "Ethen high            1082\n",
              "Ethanol high           963\n",
              "Acetaldehyd high       836\n",
              "Ethen medium           654\n",
              "Aceton low             642\n",
              "Acetaldehyd low        565\n",
              "Acetaldehyd medium     535\n",
              "Aceton medium          533\n",
              "Ethanol medium         519\n",
              "Toluol medium          397\n",
              "Ammoniak medium        311\n",
              "Ammoniak low           174\n",
              "Toluol high             11\n",
              "Name: target, dtype: int64"
            ]
          },
          "metadata": {
            "tags": []
          },
          "execution_count": 10
        }
      ]
    },
    {
      "cell_type": "markdown",
      "metadata": {
        "id": "xnMVhRYfsBMl"
      },
      "source": [
        "Wir haben `value_counts()` an der `target` Spalte aufgerufen und sehen das Aceton medium mit 1924 Einträge über die meisten Messungen verfügt. Gefolgt von Toluol low und so weiter."
      ]
    },
    {
      "cell_type": "markdown",
      "metadata": {
        "id": "pIYqHpdUsBMl"
      },
      "source": [
        "### Pandas Profiling"
      ]
    },
    {
      "cell_type": "markdown",
      "metadata": {
        "id": "0wnQF690sBMm"
      },
      "source": [
        "Im folgenden soll noch Pandas Profiling vorgestellt werden. Pandas Profiling bietet ähnlich wie die `describe()` Methode statistische Auswertungen. Mehr dazu kann auf https://github.com/pandas-profiling/pandas-profiling gelesen werden. <br>\n",
        "\n",
        "Der folgende Code (auskommentiiert da dieser Schritt zeitintensiv ist) erstellt ein vollständigen Bericht und speichert diesen als `report.html` im lokalen Verzeichnis ab."
      ]
    },
    {
      "cell_type": "code",
      "metadata": {
        "id": "LGci_dH-sBMn"
      },
      "source": [
        "#profile = df_modified.profile_report(title='Pandas Profiling Report')\n",
        "#profile.to_file(output_file=\"report.html\")"
      ],
      "execution_count": null,
      "outputs": []
    }
  ]
}