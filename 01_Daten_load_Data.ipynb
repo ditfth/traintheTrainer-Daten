{
  "nbformat": 4,
  "nbformat_minor": 0,
  "metadata": {
    "cite2c": {
      "citations": {
        "7429414/A3M3BHVX": {
          "URL": "http://archive.ics.uci.edu/ml/datasets/Gas+Sensor+Array+Drift+Dataset+at+Different+Concentrations",
          "accessed": {
            "day": 14,
            "month": 12,
            "year": 2019
          },
          "id": "7429414/A3M3BHVX",
          "title": "UCI Machine Learning Repository: Gas Sensor Array Drift Dataset at Different Concentrations Data Set",
          "type": "webpage"
        },
        "7429414/F5MSIETD": {
          "URL": "https://scikit-learn.org/stable/modules/feature_selection.html",
          "accessed": {
            "day": 14,
            "month": 12,
            "year": 2019
          },
          "id": "7429414/F5MSIETD",
          "title": "1.13. Feature selection — scikit-learn 0.22 documentation",
          "type": "webpage"
        },
        "7429414/P3YHU5HB": {
          "URL": "https://github.com/pandas-profiling/pandas-profiling",
          "accessed": {
            "day": 14,
            "month": 12,
            "year": 2019
          },
          "id": "7429414/P3YHU5HB",
          "title": "pandas-profiling/pandas-profiling: Create HTML profiling reports from pandas DataFrame objects",
          "type": "webpage"
        },
        "7429414/PJ6TJEXS": {
          "URL": "https://pandas.pydata.org/pandas-docs/stable/user_guide/indexing.html",
          "accessed": {
            "day": 16,
            "month": 12,
            "year": 2019
          },
          "id": "7429414/PJ6TJEXS",
          "title": "Indexing and selecting data — pandas 0.25.3 documentation",
          "type": "webpage"
        },
        "7429414/WP7NDQ54": {
          "URL": "https://scikit-learn.org/stable/auto_examples/model_selection/plot_cv_indices.html#sphx-glr-auto-examples-model-selection-plot-cv-indices-py",
          "accessed": {
            "day": 14,
            "month": 12,
            "year": 2019
          },
          "id": "7429414/WP7NDQ54",
          "title": "Visualizing cross-validation behavior in scikit-learn — scikit-learn 0.22 documentation",
          "type": "webpage"
        },
        "7429414/YMEC4PBD": {
          "URL": "https://www.shanelynn.ie/select-pandas-dataframe-rows-and-columns-using-iloc-loc-and-ix/",
          "abstract": "Pandas Data Selection There are multiple ways to select and index rows and columns from Pandas DataFrames. I find tutorials online focusing on advanced selections of row and column choices a little…",
          "accessed": {
            "day": 14,
            "month": 12,
            "year": 2019
          },
          "author": [
            {
              "family": "shanelynn",
              "given": ""
            }
          ],
          "container-title": "Shane Lynn",
          "id": "7429414/YMEC4PBD",
          "issued": {
            "day": 2,
            "month": 10,
            "year": 2016
          },
          "language": "en-US",
          "title": "Using iloc, loc, & ix to select rows and columns in Pandas DataFrames",
          "type": "webpage"
        }
      }
    },
    "kernelspec": {
      "display_name": "Python 3",
      "language": "python",
      "name": "python3"
    },
    "language_info": {
      "codemirror_mode": {
        "name": "ipython",
        "version": 3
      },
      "file_extension": ".py",
      "mimetype": "text/x-python",
      "name": "python",
      "nbconvert_exporter": "python",
      "pygments_lexer": "ipython3",
      "version": "3.7.7"
    },
    "colab": {
      "name": "01_Daten_load_Data.ipynb",
      "provenance": [],
      "toc_visible": true,
      "include_colab_link": true
    }
  },
  "cells": [
    {
      "cell_type": "markdown",
      "metadata": {
        "id": "view-in-github",
        "colab_type": "text"
      },
      "source": [
        "<a href=\"https://colab.research.google.com/github/r1marcus/TraintheTrainer-Daten/blob/main/01_Daten_load_Data.ipynb\" target=\"_parent\"><img src=\"https://colab.research.google.com/assets/colab-badge.svg\" alt=\"Open In Colab\"/></a>"
      ]
    },
    {
      "cell_type": "markdown",
      "metadata": {
        "id": "t-2zQ-bGsBLv"
      },
      "source": [
        "# Modul Daten"
      ]
    },
    {
      "cell_type": "markdown",
      "metadata": {
        "id": "_nuVrwV8sBLw"
      },
      "source": [
        "Dieses Jupyter Notebook soll einen Überblick über die Aufbereitung, Bereinigung und Visualisierung von Daten vermitteln. \n",
        "\n",
        "Für diesen Zweck wurde die Datenbank Gas Sensor Array Drift verwendet, heruntergeladen und vorher für diesen Zweck manipuliert (Gas- und Konzentrationsklassenlaben wurden zu einem Label zusammen geführt und dabei drei verschiedene Konzentrationsstufen definiert: low, medium und high). <br>\n",
        "Der vollständige Datensatz kann auf <br>\n",
        "\n",
        "http://archive.ics.uci.edu/ml/datasets/Gas+Sensor+Array+Drift+Dataset+at+Different+Concentrations\n",
        "\n",
        "heruntergeladen werden. Außerdem werden verschiedene Informationen zu den Daten bereitgestellt. <br>\n",
        "\n",
        "Der Datensatz enthält 13.910 Messungen von 16 chemischen Sensoren, welche abwechselnd sechs verschiedene Gase (Ethanol, Ethen, Ammoniak, Acetaldehyd, Aceton und Toluol) in verschiedenen Konzentrationen untersuchen. <br>\n",
        "Der Datensatz wurde zwischen Januar 2008 und Februar 2011 (36 Monaten) erhoben. <br>\n",
        "Jede Messung liefert anhand der 16 vorhandenen Sensoren eine 16-Kanal-Zeitreihe. <br>\n",
        "Es werden zwei Hauptfeatures in diesem Datensatz betrachtet: <br>\n",
        "$\\rightarrow~$ (i) das stationäre Feature (steady-state) bezeichnet als `DR`, definiert als die maximale Widerstandsänderung in Bezug auf eine Basis, sowie die normalisierte Version davon (`|DR|`). <br>\n",
        "$\\rightarrow~$ (ii) ein Ansammlung an Features welche die Sensordynamik der gesamten Messung wiederspiegelt (`EMAi` und `EMAd` für verschiedene $\\alpha$-Werte). <br>\n",
        "\n",
        "Im folgendem Beispiel werden wir uns nur mit dem `DR` Feature auseinandersetzen. Da jeder der 16 Sensoren diesen Messwert liefert, sind auch 16 verschiedene Messwerte von `DR` vorhanden (`DR_1` des ersten Sensors, `DR_2`, des zweiten Sensorns und wo weiter). "
      ]
    },
    {
      "cell_type": "markdown",
      "metadata": {
        "id": "_LowMEZrsBLy"
      },
      "source": [
        "## Laden des Pandas DataFrames"
      ]
    },
    {
      "cell_type": "markdown",
      "metadata": {
        "id": "DIjon6WTsBL0"
      },
      "source": [
        "Als erstes müssen alle Beispieldatensätze geladen werden. Dieser liegen in 10 verschiedene csv Dateien vor (batch0.csv bis batch9.csv). Anschließend werden diese zu einem gemeinsamen Datensatz zusammengeführt."
      ]
    },
    {
      "cell_type": "code",
      "metadata": {
        "id": "0NwltjBnsBL2",
        "outputId": "12413fe4-e519-4fa3-b249-45eeeeb637f6",
        "colab": {
          "base_uri": "https://localhost:8080/",
          "height": 1000
        }
      },
      "source": [
        "import scripts.load\n",
        "\n",
        "scripts.load.load()"
      ],
      "execution_count": 1,
      "outputs": [
        {
          "output_type": "stream",
          "text": [
            "Download dataset from URL: http://archive.ics.uci.edu/ml/machine-learning-databases/00270/\n",
            "Extract files to : /content/input/dataset_dat//driftdataset.zip\n",
            "Convert dat files to csv\n",
            "445 lines have been written for batch 1\n",
            "1244 lines have been written for batch 2\n",
            "1586 lines have been written for batch 3\n",
            "161 lines have been written for batch 4\n",
            "197 lines have been written for batch 5\n",
            "2300 lines have been written for batch 6\n",
            "3613 lines have been written for batch 7\n",
            "294 lines have been written for batch 8\n",
            "470 lines have been written for batch 9\n",
            "3600 lines have been written for batch 10\n",
            "13910 lines have been written in total\n",
            "call load_svmlight_file for batch1.csv\n",
            "call load_svmlight_file for batch2.csv\n",
            "call load_svmlight_file for batch3.csv\n",
            "call load_svmlight_file for batch4.csv\n",
            "call load_svmlight_file for batch5.csv\n",
            "call load_svmlight_file for batch6.csv\n",
            "call load_svmlight_file for batch7.csv\n",
            "call load_svmlight_file for batch8.csv\n",
            "call load_svmlight_file for batch9.csv\n",
            "call load_svmlight_file for batch10.csv\n"
          ],
          "name": "stdout"
        },
        {
          "output_type": "execute_result",
          "data": {
            "text/plain": [
              "(                 target           DR_1  ...  EMAd0.01_16  EMAd0.1_16\n",
              " 0           Ethanol low   20393.568401  ...    -0.975534   -1.706652\n",
              " 1           Ethanol low   24232.596125  ...    -0.840539   -2.339802\n",
              " 2           Ethanol low   35382.379620  ...    -2.317757   -2.811960\n",
              " 3           Ethanol low   19577.647074  ...    -1.906482   -2.521623\n",
              " 4           Ethanol low   58868.763765  ...    -3.470292   -4.943211\n",
              " ...                 ...            ...  ...          ...         ...\n",
              " 13905        Aceton low   27906.236493  ...    -0.567691   -3.712709\n",
              " 13906  Acetaldehyd high   38624.734479  ...    -6.832563  -13.906354\n",
              " 13907       Aceton high  176798.949722  ...   -26.965712  -58.237848\n",
              " 13908  Acetaldehyd high   26248.556196  ...    -3.988595  -15.729976\n",
              " 13909       Aceton high  226931.931248  ...   -53.955260 -128.025950\n",
              " \n",
              " [13910 rows x 129 columns],\n",
              "                  target         DR_1  ...  EMAd0.01_16  EMAd0.1_16\n",
              " 0           Ethanol low   15596.1621  ...    -0.902241   -2.654529\n",
              " 1           Ethanol low   26402.0704  ...    -1.323505   -1.749225\n",
              " 2           Ethanol low   42103.5820  ...    -1.993659   -2.348370\n",
              " 3           Ethanol low   42825.9883  ...    -2.146158   -2.488957\n",
              " 4           Ethanol low   58151.1757  ...    -2.931265   -4.088756\n",
              " ...                 ...          ...  ...          ...         ...\n",
              " 13905        Aceton low   28929.5108  ...    -1.407700   -4.447900\n",
              " 13906  Acetaldehyd high   40392.1230  ...    -7.655300  -12.767100\n",
              " 13907       Aceton high  183271.5898  ...   -28.516200  -56.332800\n",
              " 13908  Acetaldehyd high   29059.8516  ...    -4.734300   -9.573100\n",
              " 13909       Aceton high  230762.7607  ...   -54.254800 -125.588800\n",
              " \n",
              " [13910 rows x 129 columns],\n",
              " ['/content/input/modified_df/batch0.csv',\n",
              "  '/content/input/modified_df/batch5.csv',\n",
              "  '/content/input/modified_df/batch7.csv',\n",
              "  '/content/input/modified_df/batch8.csv',\n",
              "  '/content/input/modified_df/batch2.csv',\n",
              "  '/content/input/modified_df/batch4.csv',\n",
              "  '/content/input/modified_df/batch6.csv',\n",
              "  '/content/input/modified_df/batch3.csv',\n",
              "  '/content/input/modified_df/batch1.csv',\n",
              "  '/content/input/modified_df/batch9.csv'],\n",
              " ['/content/input/original_df/batch0.csv',\n",
              "  '/content/input/original_df/batch5.csv',\n",
              "  '/content/input/original_df/batch7.csv',\n",
              "  '/content/input/original_df/batch8.csv',\n",
              "  '/content/input/original_df/batch2.csv',\n",
              "  '/content/input/original_df/batch4.csv',\n",
              "  '/content/input/original_df/batch6.csv',\n",
              "  '/content/input/original_df/batch3.csv',\n",
              "  '/content/input/original_df/batch1.csv',\n",
              "  '/content/input/original_df/batch9.csv'])"
            ]
          },
          "metadata": {
            "tags": []
          },
          "execution_count": 1
        }
      ]
    },
    {
      "cell_type": "code",
      "metadata": {
        "id": "tIxV7wSnsBL_"
      },
      "source": [
        ""
      ],
      "execution_count": 1,
      "outputs": []
    },
    {
      "cell_type": "code",
      "metadata": {
        "id": "3qHMPnHqsBMF",
        "outputId": "7c7fbca7-0958-41a9-e59d-7ea32451a67f",
        "colab": {
          "base_uri": "https://localhost:8080/",
          "height": 458
        }
      },
      "source": [
        "df_modified, df_original,all_files_mod,all_files_original = scripts.load.load()\n"
      ],
      "execution_count": 2,
      "outputs": [
        {
          "output_type": "stream",
          "text": [
            "Download dataset from URL: http://archive.ics.uci.edu/ml/machine-learning-databases/00270/\n",
            "Extract files to : /content/input/dataset_dat//driftdataset.zip\n",
            "Convert dat files to csv\n",
            "445 lines have been written for batch 1\n",
            "1244 lines have been written for batch 2\n",
            "1586 lines have been written for batch 3\n",
            "161 lines have been written for batch 4\n",
            "197 lines have been written for batch 5\n",
            "2300 lines have been written for batch 6\n",
            "3613 lines have been written for batch 7\n",
            "294 lines have been written for batch 8\n",
            "470 lines have been written for batch 9\n",
            "3600 lines have been written for batch 10\n",
            "13910 lines have been written in total\n",
            "call load_svmlight_file for batch1.csv\n",
            "call load_svmlight_file for batch2.csv\n",
            "call load_svmlight_file for batch3.csv\n",
            "call load_svmlight_file for batch4.csv\n",
            "call load_svmlight_file for batch5.csv\n",
            "call load_svmlight_file for batch6.csv\n",
            "call load_svmlight_file for batch7.csv\n",
            "call load_svmlight_file for batch8.csv\n",
            "call load_svmlight_file for batch9.csv\n",
            "call load_svmlight_file for batch10.csv\n"
          ],
          "name": "stdout"
        }
      ]
    },
    {
      "cell_type": "markdown",
      "metadata": {
        "id": "yOf5D0DPsBMK"
      },
      "source": [
        "## Ein kurzer Blick auf die Datenstruktur"
      ]
    },
    {
      "cell_type": "markdown",
      "metadata": {
        "id": "75ShQS37sBMK"
      },
      "source": [
        "Um ein Gefühl für die Datenstruktur zu erhalten bietet Pandas die folgenden Methoden an: <br>\n",
        "\n",
        "`head(n)` $\\longrightarrow~$ Gibt die $n$ ersten Zeilen (default $n$ = 5) aus. Nützlich um schnell zu testen, ob das Objekt im richtigen Datentyp vorliegt. <br>\n",
        "`info()` $\\longrightarrow~$ Gibt eine übersichtliche Zusammenfassung des DataFrames aus, einschließlich des Index dtypes, des Spalten dtypes, Nicht-Null-Werte sowie den Speicherverbrauch. <br>\n",
        "`describe()` $\\longrightarrow~$ Erstellt deskriptive Statistiken, welche die zentrale Tendenz, Verteilung und Form der Verteilung eines Datensatzes unter Ausschluss von NaN-Werten zusammenfasst. <br>\n",
        "`value_count()` $\\longrightarrow~$ Gibt die Anzahl eindeutiger Werte in absteigender Reihenfolge wieder. Muss an einem Feature aufgerufen werden."
      ]
    },
    {
      "cell_type": "markdown",
      "metadata": {
        "id": "vsBjx7losBMM"
      },
      "source": [
        "Werfen wir als erstes ein Blick auf die `head()` Methode:"
      ]
    },
    {
      "cell_type": "code",
      "metadata": {
        "id": "Mmy90tm-sBMN",
        "outputId": "0fdfeac2-cb02-4c9b-d772-381dd74df3af",
        "colab": {
          "base_uri": "https://localhost:8080/",
          "height": 342
        }
      },
      "source": [
        "df_modified.head()"
      ],
      "execution_count": 3,
      "outputs": [
        {
          "output_type": "execute_result",
          "data": {
            "text/html": [
              "<div>\n",
              "<style scoped>\n",
              "    .dataframe tbody tr th:only-of-type {\n",
              "        vertical-align: middle;\n",
              "    }\n",
              "\n",
              "    .dataframe tbody tr th {\n",
              "        vertical-align: top;\n",
              "    }\n",
              "\n",
              "    .dataframe thead th {\n",
              "        text-align: right;\n",
              "    }\n",
              "</style>\n",
              "<table border=\"1\" class=\"dataframe\">\n",
              "  <thead>\n",
              "    <tr style=\"text-align: right;\">\n",
              "      <th></th>\n",
              "      <th>target</th>\n",
              "      <th>DR_1</th>\n",
              "      <th>|DR|_1</th>\n",
              "      <th>EMAi0.001_1</th>\n",
              "      <th>EMAi0.01_1</th>\n",
              "      <th>EMAi0.1_1</th>\n",
              "      <th>EMAd0.001_1</th>\n",
              "      <th>EMAd0.01_1</th>\n",
              "      <th>EMAd0.1_1</th>\n",
              "      <th>DR_2</th>\n",
              "      <th>|DR|_2</th>\n",
              "      <th>EMAi0.001_2</th>\n",
              "      <th>EMAi0.01_2</th>\n",
              "      <th>EMAi0.1_2</th>\n",
              "      <th>EMAd0.001_2</th>\n",
              "      <th>EMAd0.01_2</th>\n",
              "      <th>EMAd0.1_2</th>\n",
              "      <th>DR_3</th>\n",
              "      <th>|DR|_3</th>\n",
              "      <th>EMAi0.001_3</th>\n",
              "      <th>EMAi0.01_3</th>\n",
              "      <th>EMAi0.1_3</th>\n",
              "      <th>EMAd0.001_3</th>\n",
              "      <th>EMAd0.01_3</th>\n",
              "      <th>EMAd0.1_3</th>\n",
              "      <th>DR_4</th>\n",
              "      <th>|DR|_4</th>\n",
              "      <th>EMAi0.001_4</th>\n",
              "      <th>EMAi0.01_4</th>\n",
              "      <th>EMAi0.1_4</th>\n",
              "      <th>EMAd0.001_4</th>\n",
              "      <th>EMAd0.01_4</th>\n",
              "      <th>EMAd0.1_4</th>\n",
              "      <th>DR_5</th>\n",
              "      <th>|DR|_5</th>\n",
              "      <th>EMAi0.001_5</th>\n",
              "      <th>EMAi0.01_5</th>\n",
              "      <th>EMAi0.1_5</th>\n",
              "      <th>EMAd0.001_5</th>\n",
              "      <th>EMAd0.01_5</th>\n",
              "      <th>...</th>\n",
              "      <th>DR_12</th>\n",
              "      <th>|DR|_12</th>\n",
              "      <th>EMAi0.001_12</th>\n",
              "      <th>EMAi0.01_12</th>\n",
              "      <th>EMAi0.1_12</th>\n",
              "      <th>EMAd0.001_12</th>\n",
              "      <th>EMAd0.01_12</th>\n",
              "      <th>EMAd0.1_12</th>\n",
              "      <th>DR_13</th>\n",
              "      <th>|DR|_13</th>\n",
              "      <th>EMAi0.001_13</th>\n",
              "      <th>EMAi0.01_13</th>\n",
              "      <th>EMAi0.1_13</th>\n",
              "      <th>EMAd0.001_13</th>\n",
              "      <th>EMAd0.01_13</th>\n",
              "      <th>EMAd0.1_13</th>\n",
              "      <th>DR_14</th>\n",
              "      <th>|DR|_14</th>\n",
              "      <th>EMAi0.001_14</th>\n",
              "      <th>EMAi0.01_14</th>\n",
              "      <th>EMAi0.1_14</th>\n",
              "      <th>EMAd0.001_14</th>\n",
              "      <th>EMAd0.01_14</th>\n",
              "      <th>EMAd0.1_14</th>\n",
              "      <th>DR_15</th>\n",
              "      <th>|DR|_15</th>\n",
              "      <th>EMAi0.001_15</th>\n",
              "      <th>EMAi0.01_15</th>\n",
              "      <th>EMAi0.1_15</th>\n",
              "      <th>EMAd0.001_15</th>\n",
              "      <th>EMAd0.01_15</th>\n",
              "      <th>EMAd0.1_15</th>\n",
              "      <th>DR_16</th>\n",
              "      <th>|DR|_16</th>\n",
              "      <th>EMAi0.001_16</th>\n",
              "      <th>EMAi0.01_16</th>\n",
              "      <th>EMAi0.1_16</th>\n",
              "      <th>EMAd0.001_16</th>\n",
              "      <th>EMAd0.01_16</th>\n",
              "      <th>EMAd0.1_16</th>\n",
              "    </tr>\n",
              "  </thead>\n",
              "  <tbody>\n",
              "    <tr>\n",
              "      <th>0</th>\n",
              "      <td>Ethanol low</td>\n",
              "      <td>55.755193</td>\n",
              "      <td>2.424440</td>\n",
              "      <td>1.557238</td>\n",
              "      <td>-2.407588</td>\n",
              "      <td>10.260477</td>\n",
              "      <td>-6.976443</td>\n",
              "      <td>-0.850537</td>\n",
              "      <td>12.358386</td>\n",
              "      <td>14877.177303</td>\n",
              "      <td>2.291253</td>\n",
              "      <td>1.903296</td>\n",
              "      <td>0.065235</td>\n",
              "      <td>9.003578</td>\n",
              "      <td>0.276662</td>\n",
              "      <td>-2.189309</td>\n",
              "      <td>-0.056127</td>\n",
              "      <td>2243.812546</td>\n",
              "      <td>2.773738</td>\n",
              "      <td>0.576261</td>\n",
              "      <td>0.949011</td>\n",
              "      <td>1.855935</td>\n",
              "      <td>-0.289560</td>\n",
              "      <td>-1.158054</td>\n",
              "      <td>-1.538703</td>\n",
              "      <td>2842.224094</td>\n",
              "      <td>2.661311</td>\n",
              "      <td>0.379207</td>\n",
              "      <td>0.944224</td>\n",
              "      <td>2.501789</td>\n",
              "      <td>-0.467707</td>\n",
              "      <td>-0.829613</td>\n",
              "      <td>-1.856729</td>\n",
              "      <td>590.172968</td>\n",
              "      <td>1.417311</td>\n",
              "      <td>0.219961</td>\n",
              "      <td>0.216369</td>\n",
              "      <td>0.423099</td>\n",
              "      <td>-0.258095</td>\n",
              "      <td>-0.342447</td>\n",
              "      <td>...</td>\n",
              "      <td>244.555432</td>\n",
              "      <td>3.488915</td>\n",
              "      <td>0.057342</td>\n",
              "      <td>0.529043</td>\n",
              "      <td>1.812166</td>\n",
              "      <td>-0.314740</td>\n",
              "      <td>0.103476</td>\n",
              "      <td>-1.107953</td>\n",
              "      <td>1268.757640</td>\n",
              "      <td>1.455465</td>\n",
              "      <td>0.103555</td>\n",
              "      <td>0.010852</td>\n",
              "      <td>1.536840</td>\n",
              "      <td>-0.336527</td>\n",
              "      <td>-0.425640</td>\n",
              "      <td>-0.998669</td>\n",
              "      <td>547.308286</td>\n",
              "      <td>2.114296</td>\n",
              "      <td>0.269631</td>\n",
              "      <td>0.384086</td>\n",
              "      <td>0.894435</td>\n",
              "      <td>-0.258995</td>\n",
              "      <td>-0.372599</td>\n",
              "      <td>-0.977316</td>\n",
              "      <td>2181.893314</td>\n",
              "      <td>2.927735</td>\n",
              "      <td>0.559219</td>\n",
              "      <td>-0.055755</td>\n",
              "      <td>0.840144</td>\n",
              "      <td>-1.946954</td>\n",
              "      <td>-1.811118</td>\n",
              "      <td>-3.638372</td>\n",
              "      <td>4278.770197</td>\n",
              "      <td>4.328248</td>\n",
              "      <td>0.170843</td>\n",
              "      <td>1.128315</td>\n",
              "      <td>0.230627</td>\n",
              "      <td>-0.681816</td>\n",
              "      <td>-1.853012</td>\n",
              "      <td>-2.421386</td>\n",
              "    </tr>\n",
              "    <tr>\n",
              "      <th>1</th>\n",
              "      <td>Ethanol low</td>\n",
              "      <td>37738.416343</td>\n",
              "      <td>2.226076</td>\n",
              "      <td>2.468068</td>\n",
              "      <td>8.622448</td>\n",
              "      <td>4.825957</td>\n",
              "      <td>-2.188393</td>\n",
              "      <td>-2.284583</td>\n",
              "      <td>4.986919</td>\n",
              "      <td>31960.914868</td>\n",
              "      <td>2.288001</td>\n",
              "      <td>5.715006</td>\n",
              "      <td>8.036136</td>\n",
              "      <td>7.710762</td>\n",
              "      <td>-4.103006</td>\n",
              "      <td>-4.006841</td>\n",
              "      <td>-6.276902</td>\n",
              "      <td>2709.769954</td>\n",
              "      <td>3.733252</td>\n",
              "      <td>0.806540</td>\n",
              "      <td>0.629598</td>\n",
              "      <td>2.009868</td>\n",
              "      <td>-0.938485</td>\n",
              "      <td>-1.023805</td>\n",
              "      <td>-2.944126</td>\n",
              "      <td>3873.826274</td>\n",
              "      <td>2.331920</td>\n",
              "      <td>1.378561</td>\n",
              "      <td>1.928038</td>\n",
              "      <td>1.713455</td>\n",
              "      <td>-0.451261</td>\n",
              "      <td>-0.690051</td>\n",
              "      <td>-1.321474</td>\n",
              "      <td>1397.443203</td>\n",
              "      <td>2.203160</td>\n",
              "      <td>0.270758</td>\n",
              "      <td>0.278714</td>\n",
              "      <td>0.693646</td>\n",
              "      <td>-0.412159</td>\n",
              "      <td>-0.485868</td>\n",
              "      <td>...</td>\n",
              "      <td>2774.850414</td>\n",
              "      <td>2.953224</td>\n",
              "      <td>0.813747</td>\n",
              "      <td>-0.109639</td>\n",
              "      <td>0.943185</td>\n",
              "      <td>-0.643989</td>\n",
              "      <td>-0.561567</td>\n",
              "      <td>-0.490602</td>\n",
              "      <td>1476.332092</td>\n",
              "      <td>2.116405</td>\n",
              "      <td>0.300252</td>\n",
              "      <td>0.419192</td>\n",
              "      <td>0.904244</td>\n",
              "      <td>-0.380007</td>\n",
              "      <td>-0.558497</td>\n",
              "      <td>-0.972898</td>\n",
              "      <td>1911.184291</td>\n",
              "      <td>2.181682</td>\n",
              "      <td>0.198536</td>\n",
              "      <td>0.970993</td>\n",
              "      <td>1.476231</td>\n",
              "      <td>-0.381137</td>\n",
              "      <td>-0.685067</td>\n",
              "      <td>-1.000074</td>\n",
              "      <td>6720.005038</td>\n",
              "      <td>3.797946</td>\n",
              "      <td>0.239322</td>\n",
              "      <td>2.172392</td>\n",
              "      <td>1.870746</td>\n",
              "      <td>-1.680633</td>\n",
              "      <td>-1.908373</td>\n",
              "      <td>-3.124882</td>\n",
              "      <td>3950.637525</td>\n",
              "      <td>4.048859</td>\n",
              "      <td>0.851745</td>\n",
              "      <td>0.981849</td>\n",
              "      <td>0.592716</td>\n",
              "      <td>-0.730532</td>\n",
              "      <td>-0.268224</td>\n",
              "      <td>-2.803655</td>\n",
              "    </tr>\n",
              "    <tr>\n",
              "      <th>2</th>\n",
              "      <td>Ethanol low</td>\n",
              "      <td>72973.350441</td>\n",
              "      <td>3.868816</td>\n",
              "      <td>6.701240</td>\n",
              "      <td>13.203769</td>\n",
              "      <td>6.580611</td>\n",
              "      <td>-2.645822</td>\n",
              "      <td>-3.961910</td>\n",
              "      <td>-30.809946</td>\n",
              "      <td>32599.384257</td>\n",
              "      <td>3.471114</td>\n",
              "      <td>7.129527</td>\n",
              "      <td>7.195569</td>\n",
              "      <td>8.036725</td>\n",
              "      <td>-5.178069</td>\n",
              "      <td>-10.674547</td>\n",
              "      <td>-4.865427</td>\n",
              "      <td>5531.090617</td>\n",
              "      <td>4.807085</td>\n",
              "      <td>1.293019</td>\n",
              "      <td>1.319274</td>\n",
              "      <td>1.726672</td>\n",
              "      <td>-1.192809</td>\n",
              "      <td>-1.346812</td>\n",
              "      <td>-2.967349</td>\n",
              "      <td>5007.287420</td>\n",
              "      <td>3.192944</td>\n",
              "      <td>1.003420</td>\n",
              "      <td>1.986011</td>\n",
              "      <td>1.187909</td>\n",
              "      <td>-0.855806</td>\n",
              "      <td>-1.009062</td>\n",
              "      <td>-1.488021</td>\n",
              "      <td>1274.629795</td>\n",
              "      <td>2.204765</td>\n",
              "      <td>0.347758</td>\n",
              "      <td>0.489493</td>\n",
              "      <td>1.049796</td>\n",
              "      <td>-0.390270</td>\n",
              "      <td>-0.561567</td>\n",
              "      <td>...</td>\n",
              "      <td>4680.902012</td>\n",
              "      <td>5.293913</td>\n",
              "      <td>1.268856</td>\n",
              "      <td>0.920701</td>\n",
              "      <td>1.089302</td>\n",
              "      <td>-0.848045</td>\n",
              "      <td>-1.441053</td>\n",
              "      <td>-0.638931</td>\n",
              "      <td>1407.327371</td>\n",
              "      <td>2.267968</td>\n",
              "      <td>0.437177</td>\n",
              "      <td>0.783689</td>\n",
              "      <td>1.944902</td>\n",
              "      <td>-0.415473</td>\n",
              "      <td>-0.718643</td>\n",
              "      <td>-1.278990</td>\n",
              "      <td>2002.690477</td>\n",
              "      <td>2.871872</td>\n",
              "      <td>0.509719</td>\n",
              "      <td>1.192582</td>\n",
              "      <td>1.426738</td>\n",
              "      <td>-0.522235</td>\n",
              "      <td>-0.843971</td>\n",
              "      <td>-1.028356</td>\n",
              "      <td>5860.778313</td>\n",
              "      <td>5.076898</td>\n",
              "      <td>1.945874</td>\n",
              "      <td>3.986142</td>\n",
              "      <td>3.236788</td>\n",
              "      <td>-1.368505</td>\n",
              "      <td>-2.699548</td>\n",
              "      <td>-3.344537</td>\n",
              "      <td>6717.974802</td>\n",
              "      <td>5.015145</td>\n",
              "      <td>1.481470</td>\n",
              "      <td>2.249118</td>\n",
              "      <td>1.566714</td>\n",
              "      <td>-0.644967</td>\n",
              "      <td>-1.891913</td>\n",
              "      <td>-3.901128</td>\n",
              "    </tr>\n",
              "    <tr>\n",
              "      <th>3</th>\n",
              "      <td>Ethanol low</td>\n",
              "      <td>58697.868903</td>\n",
              "      <td>3.034353</td>\n",
              "      <td>15.222149</td>\n",
              "      <td>17.394803</td>\n",
              "      <td>36.171292</td>\n",
              "      <td>-6.812234</td>\n",
              "      <td>-10.720327</td>\n",
              "      <td>-29.405039</td>\n",
              "      <td>35932.420835</td>\n",
              "      <td>2.766051</td>\n",
              "      <td>11.122138</td>\n",
              "      <td>17.816157</td>\n",
              "      <td>35.029076</td>\n",
              "      <td>-7.124635</td>\n",
              "      <td>-8.664233</td>\n",
              "      <td>-25.611348</td>\n",
              "      <td>4769.355081</td>\n",
              "      <td>3.054158</td>\n",
              "      <td>1.527892</td>\n",
              "      <td>3.116626</td>\n",
              "      <td>2.483913</td>\n",
              "      <td>-0.972101</td>\n",
              "      <td>-1.750573</td>\n",
              "      <td>-2.261867</td>\n",
              "      <td>6636.241440</td>\n",
              "      <td>4.343514</td>\n",
              "      <td>1.346428</td>\n",
              "      <td>1.976212</td>\n",
              "      <td>3.217553</td>\n",
              "      <td>-1.412663</td>\n",
              "      <td>-2.013807</td>\n",
              "      <td>-1.475437</td>\n",
              "      <td>1686.638916</td>\n",
              "      <td>2.296729</td>\n",
              "      <td>0.434615</td>\n",
              "      <td>0.988241</td>\n",
              "      <td>1.146044</td>\n",
              "      <td>-0.316638</td>\n",
              "      <td>-0.518801</td>\n",
              "      <td>...</td>\n",
              "      <td>4956.553626</td>\n",
              "      <td>4.324549</td>\n",
              "      <td>1.460223</td>\n",
              "      <td>1.349313</td>\n",
              "      <td>3.054735</td>\n",
              "      <td>-0.995557</td>\n",
              "      <td>-0.998455</td>\n",
              "      <td>-2.538044</td>\n",
              "      <td>1713.027982</td>\n",
              "      <td>2.268103</td>\n",
              "      <td>0.735226</td>\n",
              "      <td>1.421336</td>\n",
              "      <td>2.091407</td>\n",
              "      <td>-0.441930</td>\n",
              "      <td>-0.632736</td>\n",
              "      <td>-1.328990</td>\n",
              "      <td>2054.417422</td>\n",
              "      <td>2.708843</td>\n",
              "      <td>0.781648</td>\n",
              "      <td>1.350912</td>\n",
              "      <td>1.778628</td>\n",
              "      <td>-0.422859</td>\n",
              "      <td>-0.776946</td>\n",
              "      <td>-1.047801</td>\n",
              "      <td>7352.541669</td>\n",
              "      <td>6.574527</td>\n",
              "      <td>1.976136</td>\n",
              "      <td>2.660222</td>\n",
              "      <td>6.821103</td>\n",
              "      <td>-1.993861</td>\n",
              "      <td>-1.855836</td>\n",
              "      <td>-3.411296</td>\n",
              "      <td>6895.013017</td>\n",
              "      <td>5.942690</td>\n",
              "      <td>2.470903</td>\n",
              "      <td>3.779397</td>\n",
              "      <td>4.534471</td>\n",
              "      <td>-0.523077</td>\n",
              "      <td>-2.024138</td>\n",
              "      <td>-3.460815</td>\n",
              "    </tr>\n",
              "    <tr>\n",
              "      <th>4</th>\n",
              "      <td>Ethanol low</td>\n",
              "      <td>65282.153490</td>\n",
              "      <td>4.750225</td>\n",
              "      <td>6.788130</td>\n",
              "      <td>8.932960</td>\n",
              "      <td>13.272624</td>\n",
              "      <td>-13.006357</td>\n",
              "      <td>-8.421732</td>\n",
              "      <td>-13.235332</td>\n",
              "      <td>53837.317808</td>\n",
              "      <td>3.172223</td>\n",
              "      <td>13.164679</td>\n",
              "      <td>18.441676</td>\n",
              "      <td>25.573114</td>\n",
              "      <td>-10.953027</td>\n",
              "      <td>-12.049250</td>\n",
              "      <td>-18.705970</td>\n",
              "      <td>8414.459647</td>\n",
              "      <td>4.954398</td>\n",
              "      <td>1.784324</td>\n",
              "      <td>2.867556</td>\n",
              "      <td>3.638916</td>\n",
              "      <td>-1.929010</td>\n",
              "      <td>-1.880789</td>\n",
              "      <td>-2.400176</td>\n",
              "      <td>7837.458807</td>\n",
              "      <td>5.340544</td>\n",
              "      <td>2.150287</td>\n",
              "      <td>2.782492</td>\n",
              "      <td>2.158012</td>\n",
              "      <td>-1.122488</td>\n",
              "      <td>-2.202228</td>\n",
              "      <td>-2.104263</td>\n",
              "      <td>1742.480232</td>\n",
              "      <td>2.682826</td>\n",
              "      <td>0.444715</td>\n",
              "      <td>0.900595</td>\n",
              "      <td>1.447177</td>\n",
              "      <td>-0.572512</td>\n",
              "      <td>-0.885634</td>\n",
              "      <td>...</td>\n",
              "      <td>4863.189792</td>\n",
              "      <td>5.321540</td>\n",
              "      <td>1.493720</td>\n",
              "      <td>1.630030</td>\n",
              "      <td>2.012799</td>\n",
              "      <td>-1.408962</td>\n",
              "      <td>-2.117606</td>\n",
              "      <td>-3.169035</td>\n",
              "      <td>1949.901692</td>\n",
              "      <td>3.279699</td>\n",
              "      <td>0.698302</td>\n",
              "      <td>0.954974</td>\n",
              "      <td>1.756366</td>\n",
              "      <td>-0.740837</td>\n",
              "      <td>-1.233291</td>\n",
              "      <td>-1.481897</td>\n",
              "      <td>3218.789667</td>\n",
              "      <td>3.269095</td>\n",
              "      <td>0.830743</td>\n",
              "      <td>1.525259</td>\n",
              "      <td>2.044445</td>\n",
              "      <td>-0.632470</td>\n",
              "      <td>-1.201621</td>\n",
              "      <td>-1.454276</td>\n",
              "      <td>10345.302119</td>\n",
              "      <td>7.349965</td>\n",
              "      <td>2.013594</td>\n",
              "      <td>4.649490</td>\n",
              "      <td>3.960260</td>\n",
              "      <td>-1.769602</td>\n",
              "      <td>-4.529913</td>\n",
              "      <td>-6.334442</td>\n",
              "      <td>7273.487444</td>\n",
              "      <td>7.997213</td>\n",
              "      <td>1.997909</td>\n",
              "      <td>2.835633</td>\n",
              "      <td>3.895350</td>\n",
              "      <td>-2.471796</td>\n",
              "      <td>-2.645188</td>\n",
              "      <td>-4.847238</td>\n",
              "    </tr>\n",
              "  </tbody>\n",
              "</table>\n",
              "<p>5 rows × 129 columns</p>\n",
              "</div>"
            ],
            "text/plain": [
              "        target          DR_1    |DR|_1  ...  EMAd0.001_16  EMAd0.01_16  EMAd0.1_16\n",
              "0  Ethanol low     55.755193  2.424440  ...     -0.681816    -1.853012   -2.421386\n",
              "1  Ethanol low  37738.416343  2.226076  ...     -0.730532    -0.268224   -2.803655\n",
              "2  Ethanol low  72973.350441  3.868816  ...     -0.644967    -1.891913   -3.901128\n",
              "3  Ethanol low  58697.868903  3.034353  ...     -0.523077    -2.024138   -3.460815\n",
              "4  Ethanol low  65282.153490  4.750225  ...     -2.471796    -2.645188   -4.847238\n",
              "\n",
              "[5 rows x 129 columns]"
            ]
          },
          "metadata": {
            "tags": []
          },
          "execution_count": 3
        }
      ]
    },
    {
      "cell_type": "markdown",
      "metadata": {
        "id": "lCJKUyQ-sBMS"
      },
      "source": [
        "Die erste Spalte verät uns das Klassenlabel. Die erste Instanz ist demnach eine Messung am Gas Ethanol bei niedriger Konzentration. Alle weitere Spalten beinhalten Daten die zu diesem Zeitpunkt bzw. Messpunkt erhoben worden sind. <br>\n",
        "\n",
        "Rufen wir die `info()` Methode an den ersten fünf Spalten auf."
      ]
    },
    {
      "cell_type": "code",
      "metadata": {
        "id": "OnljC1VwsBMT",
        "outputId": "472e9247-1acc-4d05-f359-c7ae82630ae7",
        "colab": {
          "base_uri": "https://localhost:8080/",
          "height": 237
        }
      },
      "source": [
        "df_modified.iloc[:,:5].info()"
      ],
      "execution_count": 4,
      "outputs": [
        {
          "output_type": "stream",
          "text": [
            "<class 'pandas.core.frame.DataFrame'>\n",
            "RangeIndex: 13910 entries, 0 to 13909\n",
            "Data columns (total 5 columns):\n",
            " #   Column       Non-Null Count  Dtype  \n",
            "---  ------       --------------  -----  \n",
            " 0   target       13910 non-null  object \n",
            " 1   DR_1         13895 non-null  float64\n",
            " 2   |DR|_1       13897 non-null  float64\n",
            " 3   EMAi0.001_1  13897 non-null  float64\n",
            " 4   EMAi0.01_1   13888 non-null  float64\n",
            "dtypes: float64(4), object(1)\n",
            "memory usage: 543.5+ KB\n"
          ],
          "name": "stdout"
        }
      ]
    },
    {
      "cell_type": "markdown",
      "metadata": {
        "id": "_GZpwK4hsBMZ"
      },
      "source": [
        "Für Pandas Indexing und Slicing siehe https://pandas.pydata.org/pandas-docs/stable/user_guide/indexing.html. <br>\n",
        "\n",
        "`info()` listet uns die verschiedene dtypes auf: vier float64 und eins vom Typ object. Anhand der unterschiedlichen Instanzen (total: 13910, DR_1: 13892, ...) erkennen wir, dass der Datensatz unvollständig ist (NaNs können ein Grund dafür sein). <br>"
      ]
    },
    {
      "cell_type": "markdown",
      "metadata": {
        "id": "mzQtu3a2sBMZ"
      },
      "source": [
        "Werfen wir als nächstes ein Blick auf die `describe()` Methode."
      ]
    },
    {
      "cell_type": "code",
      "metadata": {
        "id": "4IFDTKcnsBMa",
        "outputId": "cacd216a-c67e-4da3-aead-01fe109a8b97",
        "colab": {
          "base_uri": "https://localhost:8080/",
          "height": 300
        }
      },
      "source": [
        "df_modified.iloc[:,:5].describe()"
      ],
      "execution_count": 5,
      "outputs": [
        {
          "output_type": "execute_result",
          "data": {
            "text/html": [
              "<div>\n",
              "<style scoped>\n",
              "    .dataframe tbody tr th:only-of-type {\n",
              "        vertical-align: middle;\n",
              "    }\n",
              "\n",
              "    .dataframe tbody tr th {\n",
              "        vertical-align: top;\n",
              "    }\n",
              "\n",
              "    .dataframe thead th {\n",
              "        text-align: right;\n",
              "    }\n",
              "</style>\n",
              "<table border=\"1\" class=\"dataframe\">\n",
              "  <thead>\n",
              "    <tr style=\"text-align: right;\">\n",
              "      <th></th>\n",
              "      <th>DR_1</th>\n",
              "      <th>|DR|_1</th>\n",
              "      <th>EMAi0.001_1</th>\n",
              "      <th>EMAi0.01_1</th>\n",
              "    </tr>\n",
              "  </thead>\n",
              "  <tbody>\n",
              "    <tr>\n",
              "      <th>count</th>\n",
              "      <td>13895.000000</td>\n",
              "      <td>13897.000000</td>\n",
              "      <td>13897.000000</td>\n",
              "      <td>13888.000000</td>\n",
              "    </tr>\n",
              "    <tr>\n",
              "      <th>mean</th>\n",
              "      <td>50479.207790</td>\n",
              "      <td>6.640639</td>\n",
              "      <td>12.934288</td>\n",
              "      <td>18.737421</td>\n",
              "    </tr>\n",
              "    <tr>\n",
              "      <th>std</th>\n",
              "      <td>70133.325622</td>\n",
              "      <td>13.527197</td>\n",
              "      <td>17.669584</td>\n",
              "      <td>25.001936</td>\n",
              "    </tr>\n",
              "    <tr>\n",
              "      <th>min</th>\n",
              "      <td>-32840.457756</td>\n",
              "      <td>-9.597396</td>\n",
              "      <td>-7.290928</td>\n",
              "      <td>-14.132063</td>\n",
              "    </tr>\n",
              "    <tr>\n",
              "      <th>25%</th>\n",
              "      <td>7102.751046</td>\n",
              "      <td>2.287318</td>\n",
              "      <td>1.761861</td>\n",
              "      <td>2.595893</td>\n",
              "    </tr>\n",
              "    <tr>\n",
              "      <th>50%</th>\n",
              "      <td>20867.009930</td>\n",
              "      <td>3.995125</td>\n",
              "      <td>5.267600</td>\n",
              "      <td>7.760617</td>\n",
              "    </tr>\n",
              "    <tr>\n",
              "      <th>75%</th>\n",
              "      <td>63395.986787</td>\n",
              "      <td>8.633440</td>\n",
              "      <td>17.358825</td>\n",
              "      <td>25.911588</td>\n",
              "    </tr>\n",
              "    <tr>\n",
              "      <th>max</th>\n",
              "      <td>697084.442985</td>\n",
              "      <td>1335.971254</td>\n",
              "      <td>168.820369</td>\n",
              "      <td>229.082505</td>\n",
              "    </tr>\n",
              "  </tbody>\n",
              "</table>\n",
              "</div>"
            ],
            "text/plain": [
              "                DR_1        |DR|_1   EMAi0.001_1    EMAi0.01_1\n",
              "count   13895.000000  13897.000000  13897.000000  13888.000000\n",
              "mean    50479.207790      6.640639     12.934288     18.737421\n",
              "std     70133.325622     13.527197     17.669584     25.001936\n",
              "min    -32840.457756     -9.597396     -7.290928    -14.132063\n",
              "25%      7102.751046      2.287318      1.761861      2.595893\n",
              "50%     20867.009930      3.995125      5.267600      7.760617\n",
              "75%     63395.986787      8.633440     17.358825     25.911588\n",
              "max    697084.442985   1335.971254    168.820369    229.082505"
            ]
          },
          "metadata": {
            "tags": []
          },
          "execution_count": 5
        }
      ]
    },
    {
      "cell_type": "markdown",
      "metadata": {
        "id": "x5naPVSesBMf"
      },
      "source": [
        "`describe()` bietet zusätzliche Informationen zu den jeweiligen Features. Dazu gehört die Anzahl, der Mittelwert (mean), die Standardabweichung (std) sowie das minimale, 25%, 50%, 75% und das maximale Quantil."
      ]
    },
    {
      "cell_type": "code",
      "metadata": {
        "id": "xTb4GLAysBMf",
        "outputId": "bed7aeea-b7f8-409e-d17c-8ef0444213d7",
        "colab": {
          "base_uri": "https://localhost:8080/",
          "height": 366
        }
      },
      "source": [
        "df_modified['target'].value_counts()"
      ],
      "execution_count": 6,
      "outputs": [
        {
          "output_type": "execute_result",
          "data": {
            "text/plain": [
              "Aceton high           1834\n",
              "Toluol low            1425\n",
              "Ethen low             1190\n",
              "Ammoniak high         1156\n",
              "Ethanol low           1083\n",
              "Ethen high            1082\n",
              "Ethanol high           963\n",
              "Acetaldehyd high       836\n",
              "Ethen medium           654\n",
              "Aceton low             642\n",
              "Acetaldehyd low        565\n",
              "Acetaldehyd medium     535\n",
              "Aceton medium          533\n",
              "Ethanol medium         519\n",
              "Toluol medium          397\n",
              "Ammoniak medium        311\n",
              "Ammoniak low           174\n",
              "Toluol high             11\n",
              "Name: target, dtype: int64"
            ]
          },
          "metadata": {
            "tags": []
          },
          "execution_count": 6
        }
      ]
    },
    {
      "cell_type": "markdown",
      "metadata": {
        "id": "xnMVhRYfsBMl"
      },
      "source": [
        "Wir haben `value_counts()` an der `target` Spalte aufgerufen und sehen das Aceton medium mit 1924 Einträge über die meisten Messungen verfügt. Gefolgt von Toluol low und so weiter."
      ]
    },
    {
      "cell_type": "markdown",
      "metadata": {
        "id": "pIYqHpdUsBMl"
      },
      "source": [
        "### Pandas Profiling"
      ]
    },
    {
      "cell_type": "markdown",
      "metadata": {
        "id": "0wnQF690sBMm"
      },
      "source": [
        "Im folgenden soll noch Pandas Profiling vorgestellt werden. Pandas Profiling bietet ähnlich wie die `describe()` Methode statistische Auswertungen. Mehr dazu kann auf https://github.com/pandas-profiling/pandas-profiling gelesen werden. <br>\n",
        "\n",
        "Der folgende Code (auskommentiiert da dieser Schritt zeitintensiv ist) erstellt ein vollständigen Bericht und speichert diesen als `report.html` im lokalen Verzeichnis ab."
      ]
    },
    {
      "cell_type": "code",
      "metadata": {
        "id": "LGci_dH-sBMn"
      },
      "source": [
        "#profile = df_modified.profile_report(title='Pandas Profiling Report')\n",
        "#profile.to_file(output_file=\"report.html\")"
      ],
      "execution_count": 7,
      "outputs": []
    }
  ]
}