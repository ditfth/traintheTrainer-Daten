{
 "cells": [
  {
   "cell_type": "markdown",
   "metadata": {},
   "source": [
    "# Modul Daten"
   ]
  },
  {
   "cell_type": "markdown",
   "metadata": {},
   "source": [
    "Dieses Jupyter Notebook soll einen Überblick über die Aufbereitung, Bereinigung und Visualisierung von Daten vermitteln. \n",
    "\n",
    "Für diesen Zweck wurde die Datenbank Gas Sensor Array Drift verwendet, heruntergeladen und vorher für diesen Zweck manipuliert (Gas- und Konzentrationsklassenlaben wurden zu einem Label zusammen geführt und dabei drei verschiedene Konzentrationsstufen definiert: low, medium und high). <br>\n",
    "Der vollständige Datensatz kann auf <br>\n",
    "\n",
    "http://archive.ics.uci.edu/ml/datasets/Gas+Sensor+Array+Drift+Dataset+at+Different+Concentrations\n",
    "\n",
    "heruntergeladen werden. Außerdem werden verschiedene Informationen zu den Daten bereitgestellt. <br>\n",
    "\n",
    "Der Datensatz enthält 13.910 Messungen von 16 chemischen Sensoren, welche abwechselnd sechs verschiedene Gase (Ethanol, Ethen, Ammoniak, Acetaldehyd, Aceton und Toluol) in verschiedenen Konzentrationen untersuchen. <br>\n",
    "Der Datensatz wurde zwischen Januar 2008 und Februar 2011 (36 Monaten) erhoben. <br>\n",
    "Jede Messung liefert anhand der 16 vorhandenen Sensoren eine 16-Kanal-Zeitreihe. <br>\n",
    "Es werden zwei Hauptfeatures in diesem Datensatz betrachtet: <br>\n",
    "$\\rightarrow~$ (i) das stationäre Feature (steady-state) bezeichnet als `DR`, definiert als die maximale Widerstandsänderung in Bezug auf eine Basis, sowie die normalisierte Version davon (`|DR|`). <br>\n",
    "$\\rightarrow~$ (ii) ein Ansammlung an Features welche die Sensordynamik der gesamten Messung wiederspiegelt (`EMAi` und `EMAd` für verschiedene $\\alpha$-Werte). <br>\n",
    "\n",
    "Im folgendem Beispiel werden wir uns nur mit dem `DR` Feature auseinandersetzen. Da jeder der 16 Sensoren diesen Messwert liefert, sind auch 16 verschiedene Messwerte von `DR` vorhanden (`DR_1` des ersten Sensors, `DR_2`, des zweiten Sensorns und wo weiter). "
   ]
  },
  {
   "cell_type": "markdown",
   "metadata": {},
   "source": [
    "## Laden des Pandas DataFrames"
   ]
  },
  {
   "cell_type": "markdown",
   "metadata": {},
   "source": [
    "Als erstes müssen alle Beispieldatensätze geladen werden. Dieser liegen in 10 verschiedene csv Dateien vor (batch0.csv bis batch9.csv). Anschließend werden diese zu einem gemeinsamen Datensatz zusammengeführt."
   ]
  },
  {
   "cell_type": "code",
   "execution_count": 2,
   "metadata": {},
   "outputs": [
    {
     "data": {
      "text/plain": [
       "(                 target           DR_1     |DR|_1  EMAi0.001_1  EMAi0.01_1  \\\n",
       " 0           Ethanol low     509.641237   2.033514     0.254809    2.167413   \n",
       " 1           Ethanol low   38533.391702   2.342134     4.010622    9.777162   \n",
       " 2           Ethanol low   30640.213902   3.371802     9.387105    8.130167   \n",
       " 3           Ethanol low   26495.225267   3.473369     8.957996   14.171439   \n",
       " 4           Ethanol low   56839.500510   4.289495     8.446959   15.191184   \n",
       " ...                 ...            ...        ...          ...         ...   \n",
       " 13905        Aceton low   23266.320775   3.093495     2.044893    6.236694   \n",
       " 13906  Acetaldehyd high   30808.306384   2.879310    11.029082   14.524925   \n",
       " 13907       Aceton high  186222.896547  15.721410    44.446638   57.718414   \n",
       " 13908  Acetaldehyd high   24907.601420   2.062939     5.162683    7.165311   \n",
       " 13909       Aceton high  234281.659124  19.232700    61.822330   88.741905   \n",
       " \n",
       "         EMAi0.1_1  EMAd0.001_1  EMAd0.01_1   EMAd0.1_1           DR_2  ...  \\\n",
       " 0        6.917387    -1.071371   -0.326185   -1.357455   29716.668137  ...   \n",
       " 1        7.463293    -3.601266   -3.688345   -1.030023    7076.796078  ...   \n",
       " 2       18.610025    -4.571710  -17.002459   -8.314741   28209.204322  ...   \n",
       " 3       32.514786   -12.360699   -2.027190   -2.039976   30649.650834  ...   \n",
       " 4       16.894776   -12.490107   -4.025442   -2.401690   66156.665575  ...   \n",
       " ...           ...          ...         ...         ...            ...  ...   \n",
       " 13905    8.832130    -4.203367   -3.965449  -68.285475   37054.645070  ...   \n",
       " 13906   24.890736    -8.166816   -9.414907  -57.379931   34551.711269  ...   \n",
       " 13907   84.650929   -28.643208  -48.369443 -300.895058  235022.863370  ...   \n",
       " 13908   19.695415    -6.687049   -3.489327  -52.919780   23344.393776  ...   \n",
       " 13909  124.444307   -37.833689  -72.201465 -653.388966  292184.456220  ...   \n",
       " \n",
       "        EMAd0.01_15  EMAd0.1_15         DR_16    |DR|_16  EMAi0.001_16  \\\n",
       " 0        -1.018086   -2.932405   1376.997851   4.436690      0.450471   \n",
       " 1        -1.021407   -2.730868   4309.679899   4.338311      1.055154   \n",
       " 2        -2.875316   -2.044677   4859.314837   4.812519      1.411884   \n",
       " 3        -2.959944   -3.223345   6955.286998   5.567068      1.841280   \n",
       " 4        -2.999126   -5.519291   7639.317741   6.308976      1.605233   \n",
       " ...            ...         ...           ...        ...           ...   \n",
       " 13905     0.157597   -0.244930   6193.341801   3.245183      0.221290   \n",
       " 13906    -8.866522  -15.833246  18327.582719   5.375055      4.865103   \n",
       " 13907   -35.532811  -61.479566  50504.146431  17.731604     16.983471   \n",
       " 13908    -6.160511   -9.057100   8698.532904   3.223973      2.842710   \n",
       " 13909   -66.466168 -173.382850  87506.155501  29.040471     30.011334   \n",
       " \n",
       "        EMAi0.01_16  EMAi0.1_16  EMAd0.001_16  EMAd0.01_16  EMAd0.1_16  \n",
       " 0         1.537286    0.174129     -0.668878    -1.533990   -1.869676  \n",
       " 1         1.718463    2.943279     -0.696066    -1.026806   -2.789014  \n",
       " 2         2.794603    2.218621     -1.126425    -1.681372   -1.677701  \n",
       " 3         3.546894    3.323281     -0.744751    -2.685686   -1.864186  \n",
       " 4         3.132163    4.705466     -2.159960    -3.049733   -3.343077  \n",
       " ...            ...         ...           ...          ...         ...  \n",
       " 13905     1.417589    4.678076     -0.032172    -3.449534   -1.465240  \n",
       " 13906     8.341023   12.788855     -4.395176    -6.516324  -10.665630  \n",
       " 13907    24.877975   32.723540    -15.692504   -29.562599  -58.957012  \n",
       " 13908     6.383851   10.291635     -1.692607    -4.229844   -6.658843  \n",
       " 13909    49.931396   60.714611    -28.410263   -54.585332 -128.630115  \n",
       " \n",
       " [13910 rows x 129 columns],\n",
       "                  target         DR_1     |DR|_1  EMAi0.001_1  EMAi0.01_1  \\\n",
       " 0           Ethanol low   15596.1621   1.868245     2.371604    2.803678   \n",
       " 1           Ethanol low   26402.0704   2.532401     5.411209    6.509906   \n",
       " 2           Ethanol low   42103.5820   3.454189     8.198175   10.508439   \n",
       " 3           Ethanol low   42825.9883   3.451192    12.113940   16.266853   \n",
       " 4           Ethanol low   58151.1757   4.194839    11.455096   15.715298   \n",
       " ...                 ...          ...        ...          ...         ...   \n",
       " 13905        Aceton low   28929.5108   3.309200     4.393300    5.057000   \n",
       " 13906  Acetaldehyd high   40392.1230   3.280000    10.268900   13.585900   \n",
       " 13907       Aceton high  183271.5898  15.594500    45.480300   63.877500   \n",
       " 13908  Acetaldehyd high   29059.8516   2.568000     6.714200    8.786500   \n",
       " 13909       Aceton high  230762.7607  19.166600    60.936400   87.855700   \n",
       " \n",
       "         EMAi0.1_1  EMAd0.001_1  EMAd0.01_1   EMAd0.1_1         DR_2  ...  \\\n",
       " 0        7.512213    -2.739388   -3.344671   -4.847512   15326.6914  ...   \n",
       " 1        7.658469    -4.722217   -5.817651   -7.518333   23855.7812  ...   \n",
       " 2       11.611003    -7.668313   -9.478675  -12.230939   37562.3008  ...   \n",
       " 3       39.910056    -7.849409   -9.689894  -11.921704   38379.0664  ...   \n",
       " 4       17.654915   -11.083364  -13.580692  -16.407848   51975.5899  ...   \n",
       " ...           ...          ...         ...         ...          ...  ...   \n",
       " 13905    9.423300    -3.879400   -5.415100  -15.933500   42203.8965  ...   \n",
       " 13906   20.979000    -8.173200  -10.859100  -31.802700   40322.3164  ...   \n",
       " 13907   81.139600   -29.539100  -47.626600 -329.266900  229854.3418  ...   \n",
       " 13908   13.987800    -6.041100   -8.070700  -22.322300   28441.1289  ...   \n",
       " 13909  117.341400   -36.421000  -69.145400 -630.869600  287258.4492  ...   \n",
       " \n",
       "        EMAd0.01_15  EMAd0.1_15       DR_16    |DR|_16  EMAi0.001_16  \\\n",
       " 0        -1.071137   -3.037772   3037.0390   3.972203      0.527291   \n",
       " 1        -1.530519   -1.994993   4176.4453   4.281373      0.980205   \n",
       " 2        -2.384784   -2.867291   5914.6685   5.396827      1.403973   \n",
       " 3        -2.607199   -3.058086   6147.4744   5.501071      1.981933   \n",
       " 4        -3.594763   -4.181920   8158.6449   7.174334      1.993808   \n",
       " ...            ...         ...         ...        ...           ...   \n",
       " 13905    -1.494200   -4.480800   5480.6582   2.851000      1.046500   \n",
       " 13906    -8.394200  -15.949400  15700.0969   5.216200      5.167500   \n",
       " 13907   -33.976800  -62.745700  50936.2070  17.808000     17.288700   \n",
       " 13908    -5.256300  -10.409100  10079.5098   3.539900      3.266000   \n",
       " 13909   -65.605800 -172.292500  86175.8168  29.413100     29.831000   \n",
       " \n",
       "        EMAi0.01_16  EMAi0.1_16  EMAd0.001_16  EMAd0.01_16  EMAd0.1_16  \n",
       " 0         0.728443    1.445783     -0.545079    -0.902241   -2.654529  \n",
       " 1         1.628050    1.951172     -0.889333    -1.323505   -1.749225  \n",
       " 2         2.476956    3.039841     -1.334558    -1.993659   -2.348370  \n",
       " 3         3.569823    4.049197     -1.432205    -2.146158   -2.488957  \n",
       " 4         3.829303    4.402448     -1.930107    -2.931265   -4.088756  \n",
       " ...            ...         ...           ...          ...         ...  \n",
       " 13905     2.039900    5.341900     -0.842830    -1.407700   -4.447900  \n",
       " 13906     8.995000   11.591700     -4.495400    -7.655300  -12.767100  \n",
       " 13907    26.789500   33.366100    -15.823700   -28.516200  -56.332800  \n",
       " 13908     6.249900    9.026200     -2.849500    -4.734300   -9.573100  \n",
       " 13909    49.226900   60.609800    -28.627700   -54.254800 -125.588800  \n",
       " \n",
       " [13910 rows x 129 columns],\n",
       " ['G:\\\\06  Projekte\\\\72 KI\\\\31172002 KI Trainer\\\\17 TrainTheTrainer\\\\Modul Daten\\\\Modul Daten\\\\Jupyter\\\\Marcus\\\\Splitt/input/modified_df\\\\batch0.csv',\n",
       "  'G:\\\\06  Projekte\\\\72 KI\\\\31172002 KI Trainer\\\\17 TrainTheTrainer\\\\Modul Daten\\\\Modul Daten\\\\Jupyter\\\\Marcus\\\\Splitt/input/modified_df\\\\batch1.csv',\n",
       "  'G:\\\\06  Projekte\\\\72 KI\\\\31172002 KI Trainer\\\\17 TrainTheTrainer\\\\Modul Daten\\\\Modul Daten\\\\Jupyter\\\\Marcus\\\\Splitt/input/modified_df\\\\batch2.csv',\n",
       "  'G:\\\\06  Projekte\\\\72 KI\\\\31172002 KI Trainer\\\\17 TrainTheTrainer\\\\Modul Daten\\\\Modul Daten\\\\Jupyter\\\\Marcus\\\\Splitt/input/modified_df\\\\batch3.csv',\n",
       "  'G:\\\\06  Projekte\\\\72 KI\\\\31172002 KI Trainer\\\\17 TrainTheTrainer\\\\Modul Daten\\\\Modul Daten\\\\Jupyter\\\\Marcus\\\\Splitt/input/modified_df\\\\batch4.csv',\n",
       "  'G:\\\\06  Projekte\\\\72 KI\\\\31172002 KI Trainer\\\\17 TrainTheTrainer\\\\Modul Daten\\\\Modul Daten\\\\Jupyter\\\\Marcus\\\\Splitt/input/modified_df\\\\batch5.csv',\n",
       "  'G:\\\\06  Projekte\\\\72 KI\\\\31172002 KI Trainer\\\\17 TrainTheTrainer\\\\Modul Daten\\\\Modul Daten\\\\Jupyter\\\\Marcus\\\\Splitt/input/modified_df\\\\batch6.csv',\n",
       "  'G:\\\\06  Projekte\\\\72 KI\\\\31172002 KI Trainer\\\\17 TrainTheTrainer\\\\Modul Daten\\\\Modul Daten\\\\Jupyter\\\\Marcus\\\\Splitt/input/modified_df\\\\batch7.csv',\n",
       "  'G:\\\\06  Projekte\\\\72 KI\\\\31172002 KI Trainer\\\\17 TrainTheTrainer\\\\Modul Daten\\\\Modul Daten\\\\Jupyter\\\\Marcus\\\\Splitt/input/modified_df\\\\batch8.csv',\n",
       "  'G:\\\\06  Projekte\\\\72 KI\\\\31172002 KI Trainer\\\\17 TrainTheTrainer\\\\Modul Daten\\\\Modul Daten\\\\Jupyter\\\\Marcus\\\\Splitt/input/modified_df\\\\batch9.csv'],\n",
       " ['G:\\\\06  Projekte\\\\72 KI\\\\31172002 KI Trainer\\\\17 TrainTheTrainer\\\\Modul Daten\\\\Modul Daten\\\\Jupyter\\\\Marcus\\\\Splitt/input/original_df\\\\batch0.csv',\n",
       "  'G:\\\\06  Projekte\\\\72 KI\\\\31172002 KI Trainer\\\\17 TrainTheTrainer\\\\Modul Daten\\\\Modul Daten\\\\Jupyter\\\\Marcus\\\\Splitt/input/original_df\\\\batch1.csv',\n",
       "  'G:\\\\06  Projekte\\\\72 KI\\\\31172002 KI Trainer\\\\17 TrainTheTrainer\\\\Modul Daten\\\\Modul Daten\\\\Jupyter\\\\Marcus\\\\Splitt/input/original_df\\\\batch2.csv',\n",
       "  'G:\\\\06  Projekte\\\\72 KI\\\\31172002 KI Trainer\\\\17 TrainTheTrainer\\\\Modul Daten\\\\Modul Daten\\\\Jupyter\\\\Marcus\\\\Splitt/input/original_df\\\\batch3.csv',\n",
       "  'G:\\\\06  Projekte\\\\72 KI\\\\31172002 KI Trainer\\\\17 TrainTheTrainer\\\\Modul Daten\\\\Modul Daten\\\\Jupyter\\\\Marcus\\\\Splitt/input/original_df\\\\batch4.csv',\n",
       "  'G:\\\\06  Projekte\\\\72 KI\\\\31172002 KI Trainer\\\\17 TrainTheTrainer\\\\Modul Daten\\\\Modul Daten\\\\Jupyter\\\\Marcus\\\\Splitt/input/original_df\\\\batch5.csv',\n",
       "  'G:\\\\06  Projekte\\\\72 KI\\\\31172002 KI Trainer\\\\17 TrainTheTrainer\\\\Modul Daten\\\\Modul Daten\\\\Jupyter\\\\Marcus\\\\Splitt/input/original_df\\\\batch6.csv',\n",
       "  'G:\\\\06  Projekte\\\\72 KI\\\\31172002 KI Trainer\\\\17 TrainTheTrainer\\\\Modul Daten\\\\Modul Daten\\\\Jupyter\\\\Marcus\\\\Splitt/input/original_df\\\\batch7.csv',\n",
       "  'G:\\\\06  Projekte\\\\72 KI\\\\31172002 KI Trainer\\\\17 TrainTheTrainer\\\\Modul Daten\\\\Modul Daten\\\\Jupyter\\\\Marcus\\\\Splitt/input/original_df\\\\batch8.csv',\n",
       "  'G:\\\\06  Projekte\\\\72 KI\\\\31172002 KI Trainer\\\\17 TrainTheTrainer\\\\Modul Daten\\\\Modul Daten\\\\Jupyter\\\\Marcus\\\\Splitt/input/original_df\\\\batch9.csv'])"
      ]
     },
     "execution_count": 2,
     "metadata": {},
     "output_type": "execute_result"
    }
   ],
   "source": [
    "import scripts.load\n",
    "\n",
    "scripts.load.load()"
   ]
  },
  {
   "cell_type": "code",
   "execution_count": null,
   "metadata": {},
   "outputs": [],
   "source": []
  },
  {
   "cell_type": "code",
   "execution_count": 3,
   "metadata": {},
   "outputs": [],
   "source": [
    "df_modified, df_original,all_files_mod,all_files_original = scripts.load.load()\n"
   ]
  },
  {
   "cell_type": "markdown",
   "metadata": {},
   "source": [
    "## Ein kurzer Blick auf die Datenstruktur"
   ]
  },
  {
   "cell_type": "markdown",
   "metadata": {},
   "source": [
    "Um ein Gefühl für die Datenstruktur zu erhalten bietet Pandas die folgenden Methoden an: <br>\n",
    "\n",
    "`head(n)` $\\longrightarrow~$ Gibt die $n$ ersten Zeilen (default $n$ = 5) aus. Nützlich um schnell zu testen, ob das Objekt im richtigen Datentyp vorliegt. <br>\n",
    "`info()` $\\longrightarrow~$ Gibt eine übersichtliche Zusammenfassung des DataFrames aus, einschließlich des Index dtypes, des Spalten dtypes, Nicht-Null-Werte sowie den Speicherverbrauch. <br>\n",
    "`describe()` $\\longrightarrow~$ Erstellt deskriptive Statistiken, welche die zentrale Tendenz, Verteilung und Form der Verteilung eines Datensatzes unter Ausschluss von NaN-Werten zusammenfasst. <br>\n",
    "`value_count()` $\\longrightarrow~$ Gibt die Anzahl eindeutiger Werte in absteigender Reihenfolge wieder. Muss an einem Feature aufgerufen werden."
   ]
  },
  {
   "cell_type": "markdown",
   "metadata": {},
   "source": [
    "Werfen wir als erstes ein Blick auf die `head()` Methode:"
   ]
  },
  {
   "cell_type": "code",
   "execution_count": 4,
   "metadata": {},
   "outputs": [
    {
     "data": {
      "text/html": [
       "<div>\n",
       "<style scoped>\n",
       "    .dataframe tbody tr th:only-of-type {\n",
       "        vertical-align: middle;\n",
       "    }\n",
       "\n",
       "    .dataframe tbody tr th {\n",
       "        vertical-align: top;\n",
       "    }\n",
       "\n",
       "    .dataframe thead th {\n",
       "        text-align: right;\n",
       "    }\n",
       "</style>\n",
       "<table border=\"1\" class=\"dataframe\">\n",
       "  <thead>\n",
       "    <tr style=\"text-align: right;\">\n",
       "      <th></th>\n",
       "      <th>target</th>\n",
       "      <th>DR_1</th>\n",
       "      <th>|DR|_1</th>\n",
       "      <th>EMAi0.001_1</th>\n",
       "      <th>EMAi0.01_1</th>\n",
       "      <th>EMAi0.1_1</th>\n",
       "      <th>EMAd0.001_1</th>\n",
       "      <th>EMAd0.01_1</th>\n",
       "      <th>EMAd0.1_1</th>\n",
       "      <th>DR_2</th>\n",
       "      <th>...</th>\n",
       "      <th>EMAd0.01_15</th>\n",
       "      <th>EMAd0.1_15</th>\n",
       "      <th>DR_16</th>\n",
       "      <th>|DR|_16</th>\n",
       "      <th>EMAi0.001_16</th>\n",
       "      <th>EMAi0.01_16</th>\n",
       "      <th>EMAi0.1_16</th>\n",
       "      <th>EMAd0.001_16</th>\n",
       "      <th>EMAd0.01_16</th>\n",
       "      <th>EMAd0.1_16</th>\n",
       "    </tr>\n",
       "  </thead>\n",
       "  <tbody>\n",
       "    <tr>\n",
       "      <th>0</th>\n",
       "      <td>Ethanol low</td>\n",
       "      <td>509.641237</td>\n",
       "      <td>2.033514</td>\n",
       "      <td>0.254809</td>\n",
       "      <td>2.167413</td>\n",
       "      <td>6.917387</td>\n",
       "      <td>-1.071371</td>\n",
       "      <td>-0.326185</td>\n",
       "      <td>-1.357455</td>\n",
       "      <td>29716.668137</td>\n",
       "      <td>...</td>\n",
       "      <td>-1.018086</td>\n",
       "      <td>-2.932405</td>\n",
       "      <td>1376.997851</td>\n",
       "      <td>4.436690</td>\n",
       "      <td>0.450471</td>\n",
       "      <td>1.537286</td>\n",
       "      <td>0.174129</td>\n",
       "      <td>-0.668878</td>\n",
       "      <td>-1.533990</td>\n",
       "      <td>-1.869676</td>\n",
       "    </tr>\n",
       "    <tr>\n",
       "      <th>1</th>\n",
       "      <td>Ethanol low</td>\n",
       "      <td>38533.391702</td>\n",
       "      <td>2.342134</td>\n",
       "      <td>4.010622</td>\n",
       "      <td>9.777162</td>\n",
       "      <td>7.463293</td>\n",
       "      <td>-3.601266</td>\n",
       "      <td>-3.688345</td>\n",
       "      <td>-1.030023</td>\n",
       "      <td>7076.796078</td>\n",
       "      <td>...</td>\n",
       "      <td>-1.021407</td>\n",
       "      <td>-2.730868</td>\n",
       "      <td>4309.679899</td>\n",
       "      <td>4.338311</td>\n",
       "      <td>1.055154</td>\n",
       "      <td>1.718463</td>\n",
       "      <td>2.943279</td>\n",
       "      <td>-0.696066</td>\n",
       "      <td>-1.026806</td>\n",
       "      <td>-2.789014</td>\n",
       "    </tr>\n",
       "    <tr>\n",
       "      <th>2</th>\n",
       "      <td>Ethanol low</td>\n",
       "      <td>30640.213902</td>\n",
       "      <td>3.371802</td>\n",
       "      <td>9.387105</td>\n",
       "      <td>8.130167</td>\n",
       "      <td>18.610025</td>\n",
       "      <td>-4.571710</td>\n",
       "      <td>-17.002459</td>\n",
       "      <td>-8.314741</td>\n",
       "      <td>28209.204322</td>\n",
       "      <td>...</td>\n",
       "      <td>-2.875316</td>\n",
       "      <td>-2.044677</td>\n",
       "      <td>4859.314837</td>\n",
       "      <td>4.812519</td>\n",
       "      <td>1.411884</td>\n",
       "      <td>2.794603</td>\n",
       "      <td>2.218621</td>\n",
       "      <td>-1.126425</td>\n",
       "      <td>-1.681372</td>\n",
       "      <td>-1.677701</td>\n",
       "    </tr>\n",
       "    <tr>\n",
       "      <th>3</th>\n",
       "      <td>Ethanol low</td>\n",
       "      <td>26495.225267</td>\n",
       "      <td>3.473369</td>\n",
       "      <td>8.957996</td>\n",
       "      <td>14.171439</td>\n",
       "      <td>32.514786</td>\n",
       "      <td>-12.360699</td>\n",
       "      <td>-2.027190</td>\n",
       "      <td>-2.039976</td>\n",
       "      <td>30649.650834</td>\n",
       "      <td>...</td>\n",
       "      <td>-2.959944</td>\n",
       "      <td>-3.223345</td>\n",
       "      <td>6955.286998</td>\n",
       "      <td>5.567068</td>\n",
       "      <td>1.841280</td>\n",
       "      <td>3.546894</td>\n",
       "      <td>3.323281</td>\n",
       "      <td>-0.744751</td>\n",
       "      <td>-2.685686</td>\n",
       "      <td>-1.864186</td>\n",
       "    </tr>\n",
       "    <tr>\n",
       "      <th>4</th>\n",
       "      <td>Ethanol low</td>\n",
       "      <td>56839.500510</td>\n",
       "      <td>4.289495</td>\n",
       "      <td>8.446959</td>\n",
       "      <td>15.191184</td>\n",
       "      <td>16.894776</td>\n",
       "      <td>-12.490107</td>\n",
       "      <td>-4.025442</td>\n",
       "      <td>-2.401690</td>\n",
       "      <td>66156.665575</td>\n",
       "      <td>...</td>\n",
       "      <td>-2.999126</td>\n",
       "      <td>-5.519291</td>\n",
       "      <td>7639.317741</td>\n",
       "      <td>6.308976</td>\n",
       "      <td>1.605233</td>\n",
       "      <td>3.132163</td>\n",
       "      <td>4.705466</td>\n",
       "      <td>-2.159960</td>\n",
       "      <td>-3.049733</td>\n",
       "      <td>-3.343077</td>\n",
       "    </tr>\n",
       "  </tbody>\n",
       "</table>\n",
       "<p>5 rows × 129 columns</p>\n",
       "</div>"
      ],
      "text/plain": [
       "        target          DR_1    |DR|_1  EMAi0.001_1  EMAi0.01_1  EMAi0.1_1  \\\n",
       "0  Ethanol low    509.641237  2.033514     0.254809    2.167413   6.917387   \n",
       "1  Ethanol low  38533.391702  2.342134     4.010622    9.777162   7.463293   \n",
       "2  Ethanol low  30640.213902  3.371802     9.387105    8.130167  18.610025   \n",
       "3  Ethanol low  26495.225267  3.473369     8.957996   14.171439  32.514786   \n",
       "4  Ethanol low  56839.500510  4.289495     8.446959   15.191184  16.894776   \n",
       "\n",
       "   EMAd0.001_1  EMAd0.01_1  EMAd0.1_1          DR_2  ...  EMAd0.01_15  \\\n",
       "0    -1.071371   -0.326185  -1.357455  29716.668137  ...    -1.018086   \n",
       "1    -3.601266   -3.688345  -1.030023   7076.796078  ...    -1.021407   \n",
       "2    -4.571710  -17.002459  -8.314741  28209.204322  ...    -2.875316   \n",
       "3   -12.360699   -2.027190  -2.039976  30649.650834  ...    -2.959944   \n",
       "4   -12.490107   -4.025442  -2.401690  66156.665575  ...    -2.999126   \n",
       "\n",
       "   EMAd0.1_15        DR_16   |DR|_16  EMAi0.001_16  EMAi0.01_16  EMAi0.1_16  \\\n",
       "0   -2.932405  1376.997851  4.436690      0.450471     1.537286    0.174129   \n",
       "1   -2.730868  4309.679899  4.338311      1.055154     1.718463    2.943279   \n",
       "2   -2.044677  4859.314837  4.812519      1.411884     2.794603    2.218621   \n",
       "3   -3.223345  6955.286998  5.567068      1.841280     3.546894    3.323281   \n",
       "4   -5.519291  7639.317741  6.308976      1.605233     3.132163    4.705466   \n",
       "\n",
       "   EMAd0.001_16  EMAd0.01_16  EMAd0.1_16  \n",
       "0     -0.668878    -1.533990   -1.869676  \n",
       "1     -0.696066    -1.026806   -2.789014  \n",
       "2     -1.126425    -1.681372   -1.677701  \n",
       "3     -0.744751    -2.685686   -1.864186  \n",
       "4     -2.159960    -3.049733   -3.343077  \n",
       "\n",
       "[5 rows x 129 columns]"
      ]
     },
     "execution_count": 4,
     "metadata": {},
     "output_type": "execute_result"
    }
   ],
   "source": [
    "df_modified.head()"
   ]
  },
  {
   "cell_type": "markdown",
   "metadata": {},
   "source": [
    "Die erste Spalte verät uns das Klassenlabel. Die erste Instanz ist demnach eine Messung am Gas Ethanol bei niedriger Konzentration. Alle weitere Spalten beinhalten Daten die zu diesem Zeitpunkt bzw. Messpunkt erhoben worden sind. <br>\n",
    "\n",
    "Rufen wir die `info()` Methode an den ersten fünf Spalten auf."
   ]
  },
  {
   "cell_type": "code",
   "execution_count": 5,
   "metadata": {},
   "outputs": [
    {
     "name": "stdout",
     "output_type": "stream",
     "text": [
      "<class 'pandas.core.frame.DataFrame'>\n",
      "RangeIndex: 13910 entries, 0 to 13909\n",
      "Data columns (total 5 columns):\n",
      " #   Column       Non-Null Count  Dtype  \n",
      "---  ------       --------------  -----  \n",
      " 0   target       13910 non-null  object \n",
      " 1   DR_1         13892 non-null  float64\n",
      " 2   |DR|_1       13891 non-null  float64\n",
      " 3   EMAi0.001_1  13896 non-null  float64\n",
      " 4   EMAi0.01_1   13889 non-null  float64\n",
      "dtypes: float64(4), object(1)\n",
      "memory usage: 543.5+ KB\n"
     ]
    }
   ],
   "source": [
    "df_modified.iloc[:,:5].info()"
   ]
  },
  {
   "cell_type": "markdown",
   "metadata": {},
   "source": [
    "Für Pandas Indexing und Slicing siehe https://pandas.pydata.org/pandas-docs/stable/user_guide/indexing.html. <br>\n",
    "\n",
    "`info()` listet uns die verschiedene dtypes auf: vier float64 und eins vom Typ object. Anhand der unterschiedlichen Instanzen (total: 13910, DR_1: 13892, ...) erkennen wir, dass der Datensatz unvollständig ist (NaNs können ein Grund dafür sein). <br>"
   ]
  },
  {
   "cell_type": "markdown",
   "metadata": {},
   "source": [
    "Werfen wir als nächstes ein Blick auf die `describe()` Methode."
   ]
  },
  {
   "cell_type": "code",
   "execution_count": 6,
   "metadata": {},
   "outputs": [
    {
     "data": {
      "text/html": [
       "<div>\n",
       "<style scoped>\n",
       "    .dataframe tbody tr th:only-of-type {\n",
       "        vertical-align: middle;\n",
       "    }\n",
       "\n",
       "    .dataframe tbody tr th {\n",
       "        vertical-align: top;\n",
       "    }\n",
       "\n",
       "    .dataframe thead th {\n",
       "        text-align: right;\n",
       "    }\n",
       "</style>\n",
       "<table border=\"1\" class=\"dataframe\">\n",
       "  <thead>\n",
       "    <tr style=\"text-align: right;\">\n",
       "      <th></th>\n",
       "      <th>DR_1</th>\n",
       "      <th>|DR|_1</th>\n",
       "      <th>EMAi0.001_1</th>\n",
       "      <th>EMAi0.01_1</th>\n",
       "    </tr>\n",
       "  </thead>\n",
       "  <tbody>\n",
       "    <tr>\n",
       "      <th>count</th>\n",
       "      <td>13892.000000</td>\n",
       "      <td>13891.000000</td>\n",
       "      <td>13896.000000</td>\n",
       "      <td>13889.000000</td>\n",
       "    </tr>\n",
       "    <tr>\n",
       "      <th>mean</th>\n",
       "      <td>50414.936606</td>\n",
       "      <td>6.643495</td>\n",
       "      <td>12.938526</td>\n",
       "      <td>18.715159</td>\n",
       "    </tr>\n",
       "    <tr>\n",
       "      <th>std</th>\n",
       "      <td>70124.851629</td>\n",
       "      <td>13.581118</td>\n",
       "      <td>17.692590</td>\n",
       "      <td>24.998014</td>\n",
       "    </tr>\n",
       "    <tr>\n",
       "      <th>min</th>\n",
       "      <td>-32269.296506</td>\n",
       "      <td>-7.661152</td>\n",
       "      <td>-11.945900</td>\n",
       "      <td>-14.244902</td>\n",
       "    </tr>\n",
       "    <tr>\n",
       "      <th>25%</th>\n",
       "      <td>6878.411415</td>\n",
       "      <td>2.279255</td>\n",
       "      <td>1.732025</td>\n",
       "      <td>2.553648</td>\n",
       "    </tr>\n",
       "    <tr>\n",
       "      <th>50%</th>\n",
       "      <td>20749.781769</td>\n",
       "      <td>3.997641</td>\n",
       "      <td>5.314358</td>\n",
       "      <td>7.685242</td>\n",
       "    </tr>\n",
       "    <tr>\n",
       "      <th>75%</th>\n",
       "      <td>62852.469633</td>\n",
       "      <td>8.631351</td>\n",
       "      <td>17.177674</td>\n",
       "      <td>25.949883</td>\n",
       "    </tr>\n",
       "    <tr>\n",
       "      <th>max</th>\n",
       "      <td>700870.254384</td>\n",
       "      <td>1342.294514</td>\n",
       "      <td>168.362526</td>\n",
       "      <td>231.740498</td>\n",
       "    </tr>\n",
       "  </tbody>\n",
       "</table>\n",
       "</div>"
      ],
      "text/plain": [
       "                DR_1        |DR|_1   EMAi0.001_1    EMAi0.01_1\n",
       "count   13892.000000  13891.000000  13896.000000  13889.000000\n",
       "mean    50414.936606      6.643495     12.938526     18.715159\n",
       "std     70124.851629     13.581118     17.692590     24.998014\n",
       "min    -32269.296506     -7.661152    -11.945900    -14.244902\n",
       "25%      6878.411415      2.279255      1.732025      2.553648\n",
       "50%     20749.781769      3.997641      5.314358      7.685242\n",
       "75%     62852.469633      8.631351     17.177674     25.949883\n",
       "max    700870.254384   1342.294514    168.362526    231.740498"
      ]
     },
     "execution_count": 6,
     "metadata": {},
     "output_type": "execute_result"
    }
   ],
   "source": [
    "df_modified.iloc[:,:5].describe()"
   ]
  },
  {
   "cell_type": "markdown",
   "metadata": {},
   "source": [
    "`describe()` bietet zusätzliche Informationen zu den jeweiligen Features. Dazu gehört die Anzahl, der Mittelwert (mean), die Standardabweichung (std) sowie das minimale, 25%, 50%, 75% und das maximale Quantil."
   ]
  },
  {
   "cell_type": "code",
   "execution_count": 7,
   "metadata": {},
   "outputs": [
    {
     "data": {
      "text/plain": [
       "Aceton high           1834\n",
       "Toluol low            1425\n",
       "Ethen low             1190\n",
       "Ammoniak high         1156\n",
       "Ethanol low           1083\n",
       "Ethen high            1082\n",
       "Ethanol high           963\n",
       "Acetaldehyd high       836\n",
       "Ethen medium           654\n",
       "Aceton low             642\n",
       "Acetaldehyd low        565\n",
       "Acetaldehyd medium     535\n",
       "Aceton medium          533\n",
       "Ethanol medium         519\n",
       "Toluol medium          397\n",
       "Ammoniak medium        311\n",
       "Ammoniak low           174\n",
       "Toluol high             11\n",
       "Name: target, dtype: int64"
      ]
     },
     "execution_count": 7,
     "metadata": {},
     "output_type": "execute_result"
    }
   ],
   "source": [
    "df_modified['target'].value_counts()"
   ]
  },
  {
   "cell_type": "markdown",
   "metadata": {},
   "source": [
    "Wir haben `value_counts()` an der `target` Spalte aufgerufen und sehen das Aceton medium mit 1924 Einträge über die meisten Messungen verfügt. Gefolgt von Toluol low und so weiter."
   ]
  },
  {
   "cell_type": "markdown",
   "metadata": {},
   "source": [
    "### Pandas Profiling"
   ]
  },
  {
   "cell_type": "markdown",
   "metadata": {},
   "source": [
    "Im folgenden soll noch Pandas Profiling vorgestellt werden. Pandas Profiling bietet ähnlich wie die `describe()` Methode statistische Auswertungen. Mehr dazu kann auf https://github.com/pandas-profiling/pandas-profiling gelesen werden. <br>\n",
    "\n",
    "Der folgende Code (auskommentiiert da dieser Schritt zeitintensiv ist) erstellt ein vollständigen Bericht und speichert diesen als `report.html` im lokalen Verzeichnis ab."
   ]
  },
  {
   "cell_type": "code",
   "execution_count": 8,
   "metadata": {},
   "outputs": [],
   "source": [
    "#profile = df_modified.profile_report(title='Pandas Profiling Report')\n",
    "#profile.to_file(output_file=\"report.html\")"
   ]
  }
 ],
 "metadata": {
  "cite2c": {
   "citations": {
    "7429414/A3M3BHVX": {
     "URL": "http://archive.ics.uci.edu/ml/datasets/Gas+Sensor+Array+Drift+Dataset+at+Different+Concentrations",
     "accessed": {
      "day": 14,
      "month": 12,
      "year": 2019
     },
     "id": "7429414/A3M3BHVX",
     "title": "UCI Machine Learning Repository: Gas Sensor Array Drift Dataset at Different Concentrations Data Set",
     "type": "webpage"
    },
    "7429414/F5MSIETD": {
     "URL": "https://scikit-learn.org/stable/modules/feature_selection.html",
     "accessed": {
      "day": 14,
      "month": 12,
      "year": 2019
     },
     "id": "7429414/F5MSIETD",
     "title": "1.13. Feature selection — scikit-learn 0.22 documentation",
     "type": "webpage"
    },
    "7429414/P3YHU5HB": {
     "URL": "https://github.com/pandas-profiling/pandas-profiling",
     "accessed": {
      "day": 14,
      "month": 12,
      "year": 2019
     },
     "id": "7429414/P3YHU5HB",
     "title": "pandas-profiling/pandas-profiling: Create HTML profiling reports from pandas DataFrame objects",
     "type": "webpage"
    },
    "7429414/PJ6TJEXS": {
     "URL": "https://pandas.pydata.org/pandas-docs/stable/user_guide/indexing.html",
     "accessed": {
      "day": 16,
      "month": 12,
      "year": 2019
     },
     "id": "7429414/PJ6TJEXS",
     "title": "Indexing and selecting data — pandas 0.25.3 documentation",
     "type": "webpage"
    },
    "7429414/WP7NDQ54": {
     "URL": "https://scikit-learn.org/stable/auto_examples/model_selection/plot_cv_indices.html#sphx-glr-auto-examples-model-selection-plot-cv-indices-py",
     "accessed": {
      "day": 14,
      "month": 12,
      "year": 2019
     },
     "id": "7429414/WP7NDQ54",
     "title": "Visualizing cross-validation behavior in scikit-learn — scikit-learn 0.22 documentation",
     "type": "webpage"
    },
    "7429414/YMEC4PBD": {
     "URL": "https://www.shanelynn.ie/select-pandas-dataframe-rows-and-columns-using-iloc-loc-and-ix/",
     "abstract": "Pandas Data Selection There are multiple ways to select and index rows and columns from Pandas DataFrames. I find tutorials online focusing on advanced selections of row and column choices a little…",
     "accessed": {
      "day": 14,
      "month": 12,
      "year": 2019
     },
     "author": [
      {
       "family": "shanelynn",
       "given": ""
      }
     ],
     "container-title": "Shane Lynn",
     "id": "7429414/YMEC4PBD",
     "issued": {
      "day": 2,
      "month": 10,
      "year": 2016
     },
     "language": "en-US",
     "title": "Using iloc, loc, & ix to select rows and columns in Pandas DataFrames",
     "type": "webpage"
    }
   }
  },
  "kernelspec": {
   "display_name": "Python 3",
   "language": "python",
   "name": "python3"
  },
  "language_info": {
   "codemirror_mode": {
    "name": "ipython",
    "version": 3
   },
   "file_extension": ".py",
   "mimetype": "text/x-python",
   "name": "python",
   "nbconvert_exporter": "python",
   "pygments_lexer": "ipython3",
   "version": "3.7.7"
  }
 },
 "nbformat": 4,
 "nbformat_minor": 2
}
