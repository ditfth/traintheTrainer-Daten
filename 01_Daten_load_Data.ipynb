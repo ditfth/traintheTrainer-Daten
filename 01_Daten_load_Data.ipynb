{
  "nbformat": 4,
  "nbformat_minor": 0,
  "metadata": {
    "cite2c": {
      "citations": {
        "7429414/A3M3BHVX": {
          "URL": "http://archive.ics.uci.edu/ml/datasets/Gas+Sensor+Array+Drift+Dataset+at+Different+Concentrations",
          "accessed": {
            "day": 14,
            "month": 12,
            "year": 2019
          },
          "id": "7429414/A3M3BHVX",
          "title": "UCI Machine Learning Repository: Gas Sensor Array Drift Dataset at Different Concentrations Data Set",
          "type": "webpage"
        },
        "7429414/F5MSIETD": {
          "URL": "https://scikit-learn.org/stable/modules/feature_selection.html",
          "accessed": {
            "day": 14,
            "month": 12,
            "year": 2019
          },
          "id": "7429414/F5MSIETD",
          "title": "1.13. Feature selection — scikit-learn 0.22 documentation",
          "type": "webpage"
        },
        "7429414/P3YHU5HB": {
          "URL": "https://github.com/pandas-profiling/pandas-profiling",
          "accessed": {
            "day": 14,
            "month": 12,
            "year": 2019
          },
          "id": "7429414/P3YHU5HB",
          "title": "pandas-profiling/pandas-profiling: Create HTML profiling reports from pandas DataFrame objects",
          "type": "webpage"
        },
        "7429414/PJ6TJEXS": {
          "URL": "https://pandas.pydata.org/pandas-docs/stable/user_guide/indexing.html",
          "accessed": {
            "day": 16,
            "month": 12,
            "year": 2019
          },
          "id": "7429414/PJ6TJEXS",
          "title": "Indexing and selecting data — pandas 0.25.3 documentation",
          "type": "webpage"
        },
        "7429414/WP7NDQ54": {
          "URL": "https://scikit-learn.org/stable/auto_examples/model_selection/plot_cv_indices.html#sphx-glr-auto-examples-model-selection-plot-cv-indices-py",
          "accessed": {
            "day": 14,
            "month": 12,
            "year": 2019
          },
          "id": "7429414/WP7NDQ54",
          "title": "Visualizing cross-validation behavior in scikit-learn — scikit-learn 0.22 documentation",
          "type": "webpage"
        },
        "7429414/YMEC4PBD": {
          "URL": "https://www.shanelynn.ie/select-pandas-dataframe-rows-and-columns-using-iloc-loc-and-ix/",
          "abstract": "Pandas Data Selection There are multiple ways to select and index rows and columns from Pandas DataFrames. I find tutorials online focusing on advanced selections of row and column choices a little…",
          "accessed": {
            "day": 14,
            "month": 12,
            "year": 2019
          },
          "author": [
            {
              "family": "shanelynn",
              "given": ""
            }
          ],
          "container-title": "Shane Lynn",
          "id": "7429414/YMEC4PBD",
          "issued": {
            "day": 2,
            "month": 10,
            "year": 2016
          },
          "language": "en-US",
          "title": "Using iloc, loc, & ix to select rows and columns in Pandas DataFrames",
          "type": "webpage"
        }
      }
    },
    "kernelspec": {
      "display_name": "Python 3",
      "language": "python",
      "name": "python3"
    },
    "language_info": {
      "codemirror_mode": {
        "name": "ipython",
        "version": 3
      },
      "file_extension": ".py",
      "mimetype": "text/x-python",
      "name": "python",
      "nbconvert_exporter": "python",
      "pygments_lexer": "ipython3",
      "version": "3.7.7"
    },
    "colab": {
      "name": "01_Daten_load_Data.ipynb",
      "provenance": [],
      "include_colab_link": true
    }
  },
  "cells": [
    {
      "cell_type": "markdown",
      "metadata": {
        "id": "view-in-github",
        "colab_type": "text"
      },
      "source": [
        "<a href=\"https://colab.research.google.com/github/r1marcus/TraintheTrainer-Daten/blob/main/01_Daten_load_Data.ipynb\" target=\"_parent\"><img src=\"https://colab.research.google.com/assets/colab-badge.svg\" alt=\"Open In Colab\"/></a>"
      ]
    },
    {
      "cell_type": "markdown",
      "metadata": {
        "id": "t-2zQ-bGsBLv"
      },
      "source": [
        "# Modul Daten"
      ]
    },
    {
      "cell_type": "markdown",
      "metadata": {
        "id": "_nuVrwV8sBLw"
      },
      "source": [
        "Dieses Jupyter Notebook soll einen Überblick über die Aufbereitung, Bereinigung und Visualisierung von Daten vermitteln. \n",
        "\n",
        "Für diesen Zweck wurde die Datenbank Gas Sensor Array Drift verwendet, heruntergeladen und vorher für diesen Zweck manipuliert (Gas- und Konzentrationsklassenlaben wurden zu einem Label zusammen geführt und dabei drei verschiedene Konzentrationsstufen definiert: low, medium und high). <br>\n",
        "Der vollständige Datensatz kann auf <br>\n",
        "\n",
        "http://archive.ics.uci.edu/ml/datasets/Gas+Sensor+Array+Drift+Dataset+at+Different+Concentrations\n",
        "\n",
        "heruntergeladen werden. Außerdem werden verschiedene Informationen zu den Daten bereitgestellt. <br>\n",
        "\n",
        "Der Datensatz enthält 13.910 Messungen von 16 chemischen Sensoren, welche abwechselnd sechs verschiedene Gase (Ethanol, Ethen, Ammoniak, Acetaldehyd, Aceton und Toluol) in verschiedenen Konzentrationen untersuchen. <br>\n",
        "Der Datensatz wurde zwischen Januar 2008 und Februar 2011 (36 Monaten) erhoben. <br>\n",
        "Jede Messung liefert anhand der 16 vorhandenen Sensoren eine 16-Kanal-Zeitreihe. <br>\n",
        "Es werden zwei Hauptfeatures in diesem Datensatz betrachtet: <br>\n",
        "$\\rightarrow~$ (i) das stationäre Feature (steady-state) bezeichnet als `DR`, definiert als die maximale Widerstandsänderung in Bezug auf eine Basis, sowie die normalisierte Version davon (`|DR|`). <br>\n",
        "$\\rightarrow~$ (ii) ein Ansammlung an Features welche die Sensordynamik der gesamten Messung wiederspiegelt (`EMAi` und `EMAd` für verschiedene $\\alpha$-Werte). <br>\n",
        "\n",
        "Im folgendem Beispiel werden wir uns nur mit dem `DR` Feature auseinandersetzen. Da jeder der 16 Sensoren diesen Messwert liefert, sind auch 16 verschiedene Messwerte von `DR` vorhanden (`DR_1` des ersten Sensors, `DR_2`, des zweiten Sensorns und wo weiter). "
      ]
    },
    {
      "cell_type": "markdown",
      "metadata": {
        "id": "_LowMEZrsBLy"
      },
      "source": [
        "## Laden des Pandas DataFrames"
      ]
    },
    {
      "cell_type": "markdown",
      "metadata": {
        "id": "DIjon6WTsBL0"
      },
      "source": [
        "Als erstes müssen alle Beispieldatensätze geladen werden. Dieser liegen in 10 verschiedene csv Dateien vor (batch0.csv bis batch9.csv). Anschließend werden diese zu einem gemeinsamen Datensatz zusammengeführt."
      ]
    },
    {
      "cell_type": "code",
      "metadata": {
        "id": "oJomzcycv3QT",
        "outputId": "23e545b0-7cda-4754-8d26-02836934c354",
        "colab": {
          "base_uri": "https://localhost:8080/",
          "height": 146
        }
      },
      "source": [
        "\n",
        "!git clone https://github.com/r1marcus/TraintheTrainer-Daten.git\n",
        "!echo $CWD\n",
        "!cp -rf /content/TraintheTrainer-Daten/* /content/"
      ],
      "execution_count": 1,
      "outputs": [
        {
          "output_type": "stream",
          "text": [
            "Cloning into 'TraintheTrainer-Daten'...\n",
            "remote: Enumerating objects: 28, done.\u001b[K\n",
            "remote: Counting objects: 100% (28/28), done.\u001b[K\n",
            "remote: Compressing objects: 100% (26/26), done.\u001b[K\n",
            "remote: Total 28 (delta 4), reused 0 (delta 0), pack-reused 0\u001b[K\n",
            "Unpacking objects: 100% (28/28), done.\n",
            "\n"
          ],
          "name": "stdout"
        }
      ]
    },
    {
      "cell_type": "code",
      "metadata": {
        "id": "0NwltjBnsBL2",
        "outputId": "4dd3efbb-398f-47c8-de1a-2e5ad241e596",
        "colab": {
          "base_uri": "https://localhost:8080/",
          "height": 1000
        }
      },
      "source": [
        "import scripts.load\n",
        "\n"
      ],
      "execution_count": 2,
      "outputs": [
        {
          "output_type": "stream",
          "text": [
            "Download dataset from URL: http://archive.ics.uci.edu/ml/machine-learning-databases/00270/\n",
            "Extract files to : /content/input/dataset_dat//driftdataset.zip\n",
            "Convert dat files to csv\n",
            "445 lines have been written for batch 1\n",
            "1244 lines have been written for batch 2\n",
            "1586 lines have been written for batch 3\n",
            "161 lines have been written for batch 4\n",
            "197 lines have been written for batch 5\n",
            "2300 lines have been written for batch 6\n",
            "3613 lines have been written for batch 7\n",
            "294 lines have been written for batch 8\n",
            "470 lines have been written for batch 9\n",
            "3600 lines have been written for batch 10\n",
            "13910 lines have been written in total\n",
            "call load_svmlight_file for batch1.csv\n",
            "call load_svmlight_file for batch2.csv\n",
            "call load_svmlight_file for batch3.csv\n",
            "call load_svmlight_file for batch4.csv\n",
            "call load_svmlight_file for batch5.csv\n",
            "call load_svmlight_file for batch6.csv\n",
            "call load_svmlight_file for batch7.csv\n",
            "call load_svmlight_file for batch8.csv\n",
            "call load_svmlight_file for batch9.csv\n",
            "call load_svmlight_file for batch10.csv\n"
          ],
          "name": "stdout"
        },
        {
          "output_type": "execute_result",
          "data": {
            "text/plain": [
              "(                 target           DR_1  ...  EMAd0.01_16  EMAd0.1_16\n",
              " 0           Ethanol low   25818.149843  ...    -0.736340   -2.659883\n",
              " 1           Ethanol low   60709.625721  ...    -0.985612   -2.130838\n",
              " 2           Ethanol low   36303.965471  ...    -2.099862   -2.653119\n",
              " 3           Ethanol low   62459.584602  ...    -2.471731   -2.234863\n",
              " 4           Ethanol low   57556.398911  ...    -2.623950   -4.459580\n",
              " ...                 ...            ...  ...          ...         ...\n",
              " 13905        Aceton low   23868.891091  ...    -0.776385  -10.700386\n",
              " 13906  Acetaldehyd high   32316.529061  ...    -8.784512  -13.327692\n",
              " 13907       Aceton high  181215.658764  ...   -29.355278  -58.544381\n",
              " 13908  Acetaldehyd high   37716.945370  ...    -1.885420   -9.131280\n",
              " 13909       Aceton high  226818.722068  ...   -53.456210 -124.193138\n",
              " \n",
              " [13910 rows x 129 columns],\n",
              "                  target         DR_1  ...  EMAd0.01_16  EMAd0.1_16\n",
              " 0           Ethanol low   15596.1621  ...    -0.902241   -2.654529\n",
              " 1           Ethanol low   26402.0704  ...    -1.323505   -1.749225\n",
              " 2           Ethanol low   42103.5820  ...    -1.993659   -2.348370\n",
              " 3           Ethanol low   42825.9883  ...    -2.146158   -2.488957\n",
              " 4           Ethanol low   58151.1757  ...    -2.931265   -4.088756\n",
              " ...                 ...          ...  ...          ...         ...\n",
              " 13905        Aceton low   28929.5108  ...    -1.407700   -4.447900\n",
              " 13906  Acetaldehyd high   40392.1230  ...    -7.655300  -12.767100\n",
              " 13907       Aceton high  183271.5898  ...   -28.516200  -56.332800\n",
              " 13908  Acetaldehyd high   29059.8516  ...    -4.734300   -9.573100\n",
              " 13909       Aceton high  230762.7607  ...   -54.254800 -125.588800\n",
              " \n",
              " [13910 rows x 129 columns],\n",
              " ['/content/input/modified_df/batch0.csv',\n",
              "  '/content/input/modified_df/batch5.csv',\n",
              "  '/content/input/modified_df/batch7.csv',\n",
              "  '/content/input/modified_df/batch8.csv',\n",
              "  '/content/input/modified_df/batch2.csv',\n",
              "  '/content/input/modified_df/batch4.csv',\n",
              "  '/content/input/modified_df/batch6.csv',\n",
              "  '/content/input/modified_df/batch3.csv',\n",
              "  '/content/input/modified_df/batch1.csv',\n",
              "  '/content/input/modified_df/batch9.csv'],\n",
              " ['/content/input/original_df/batch0.csv',\n",
              "  '/content/input/original_df/batch5.csv',\n",
              "  '/content/input/original_df/batch7.csv',\n",
              "  '/content/input/original_df/batch8.csv',\n",
              "  '/content/input/original_df/batch2.csv',\n",
              "  '/content/input/original_df/batch4.csv',\n",
              "  '/content/input/original_df/batch6.csv',\n",
              "  '/content/input/original_df/batch3.csv',\n",
              "  '/content/input/original_df/batch1.csv',\n",
              "  '/content/input/original_df/batch9.csv'])"
            ]
          },
          "metadata": {
            "tags": []
          },
          "execution_count": 2
        }
      ]
    },
    {
      "cell_type": "code",
      "metadata": {
        "id": "tIxV7wSnsBL_"
      },
      "source": [
        ""
      ],
      "execution_count": null,
      "outputs": []
    },
    {
      "cell_type": "code",
      "metadata": {
        "id": "3qHMPnHqsBMF",
        "outputId": "8552d789-753d-4d93-d32f-72963bb490a3",
        "colab": {
          "base_uri": "https://localhost:8080/",
          "height": 458
        }
      },
      "source": [
        "df_modified, df_original,all_files_mod,all_files_original = scripts.load.load()\n"
      ],
      "execution_count": 3,
      "outputs": [
        {
          "output_type": "stream",
          "text": [
            "Download dataset from URL: http://archive.ics.uci.edu/ml/machine-learning-databases/00270/\n",
            "Extract files to : /content/input/dataset_dat//driftdataset.zip\n",
            "Convert dat files to csv\n",
            "445 lines have been written for batch 1\n",
            "1244 lines have been written for batch 2\n",
            "1586 lines have been written for batch 3\n",
            "161 lines have been written for batch 4\n",
            "197 lines have been written for batch 5\n",
            "2300 lines have been written for batch 6\n",
            "3613 lines have been written for batch 7\n",
            "294 lines have been written for batch 8\n",
            "470 lines have been written for batch 9\n",
            "3600 lines have been written for batch 10\n",
            "13910 lines have been written in total\n",
            "call load_svmlight_file for batch1.csv\n",
            "call load_svmlight_file for batch2.csv\n",
            "call load_svmlight_file for batch3.csv\n",
            "call load_svmlight_file for batch4.csv\n",
            "call load_svmlight_file for batch5.csv\n",
            "call load_svmlight_file for batch6.csv\n",
            "call load_svmlight_file for batch7.csv\n",
            "call load_svmlight_file for batch8.csv\n",
            "call load_svmlight_file for batch9.csv\n",
            "call load_svmlight_file for batch10.csv\n"
          ],
          "name": "stdout"
        }
      ]
    },
    {
      "cell_type": "markdown",
      "metadata": {
        "id": "yOf5D0DPsBMK"
      },
      "source": [
        "## Ein kurzer Blick auf die Datenstruktur"
      ]
    },
    {
      "cell_type": "markdown",
      "metadata": {
        "id": "75ShQS37sBMK"
      },
      "source": [
        "Um ein Gefühl für die Datenstruktur zu erhalten bietet Pandas die folgenden Methoden an: <br>\n",
        "\n",
        "`head(n)` $\\longrightarrow~$ Gibt die $n$ ersten Zeilen (default $n$ = 5) aus. Nützlich um schnell zu testen, ob das Objekt im richtigen Datentyp vorliegt. <br>\n",
        "`info()` $\\longrightarrow~$ Gibt eine übersichtliche Zusammenfassung des DataFrames aus, einschließlich des Index dtypes, des Spalten dtypes, Nicht-Null-Werte sowie den Speicherverbrauch. <br>\n",
        "`describe()` $\\longrightarrow~$ Erstellt deskriptive Statistiken, welche die zentrale Tendenz, Verteilung und Form der Verteilung eines Datensatzes unter Ausschluss von NaN-Werten zusammenfasst. <br>\n",
        "`value_count()` $\\longrightarrow~$ Gibt die Anzahl eindeutiger Werte in absteigender Reihenfolge wieder. Muss an einem Feature aufgerufen werden."
      ]
    },
    {
      "cell_type": "markdown",
      "metadata": {
        "id": "vsBjx7losBMM"
      },
      "source": [
        "Werfen wir als erstes ein Blick auf die `head()` Methode:"
      ]
    },
    {
      "cell_type": "code",
      "metadata": {
        "id": "Mmy90tm-sBMN",
        "outputId": "3a3a72e3-f2d6-4ea6-9a48-355163d631e1",
        "colab": {
          "base_uri": "https://localhost:8080/",
          "height": 342
        }
      },
      "source": [
        "df_modified.head()"
      ],
      "execution_count": 4,
      "outputs": [
        {
          "output_type": "execute_result",
          "data": {
            "text/html": [
              "<div>\n",
              "<style scoped>\n",
              "    .dataframe tbody tr th:only-of-type {\n",
              "        vertical-align: middle;\n",
              "    }\n",
              "\n",
              "    .dataframe tbody tr th {\n",
              "        vertical-align: top;\n",
              "    }\n",
              "\n",
              "    .dataframe thead th {\n",
              "        text-align: right;\n",
              "    }\n",
              "</style>\n",
              "<table border=\"1\" class=\"dataframe\">\n",
              "  <thead>\n",
              "    <tr style=\"text-align: right;\">\n",
              "      <th></th>\n",
              "      <th>target</th>\n",
              "      <th>DR_1</th>\n",
              "      <th>|DR|_1</th>\n",
              "      <th>EMAi0.001_1</th>\n",
              "      <th>EMAi0.01_1</th>\n",
              "      <th>EMAi0.1_1</th>\n",
              "      <th>EMAd0.001_1</th>\n",
              "      <th>EMAd0.01_1</th>\n",
              "      <th>EMAd0.1_1</th>\n",
              "      <th>DR_2</th>\n",
              "      <th>|DR|_2</th>\n",
              "      <th>EMAi0.001_2</th>\n",
              "      <th>EMAi0.01_2</th>\n",
              "      <th>EMAi0.1_2</th>\n",
              "      <th>EMAd0.001_2</th>\n",
              "      <th>EMAd0.01_2</th>\n",
              "      <th>EMAd0.1_2</th>\n",
              "      <th>DR_3</th>\n",
              "      <th>|DR|_3</th>\n",
              "      <th>EMAi0.001_3</th>\n",
              "      <th>EMAi0.01_3</th>\n",
              "      <th>EMAi0.1_3</th>\n",
              "      <th>EMAd0.001_3</th>\n",
              "      <th>EMAd0.01_3</th>\n",
              "      <th>EMAd0.1_3</th>\n",
              "      <th>DR_4</th>\n",
              "      <th>|DR|_4</th>\n",
              "      <th>EMAi0.001_4</th>\n",
              "      <th>EMAi0.01_4</th>\n",
              "      <th>EMAi0.1_4</th>\n",
              "      <th>EMAd0.001_4</th>\n",
              "      <th>EMAd0.01_4</th>\n",
              "      <th>EMAd0.1_4</th>\n",
              "      <th>DR_5</th>\n",
              "      <th>|DR|_5</th>\n",
              "      <th>EMAi0.001_5</th>\n",
              "      <th>EMAi0.01_5</th>\n",
              "      <th>EMAi0.1_5</th>\n",
              "      <th>EMAd0.001_5</th>\n",
              "      <th>EMAd0.01_5</th>\n",
              "      <th>...</th>\n",
              "      <th>DR_12</th>\n",
              "      <th>|DR|_12</th>\n",
              "      <th>EMAi0.001_12</th>\n",
              "      <th>EMAi0.01_12</th>\n",
              "      <th>EMAi0.1_12</th>\n",
              "      <th>EMAd0.001_12</th>\n",
              "      <th>EMAd0.01_12</th>\n",
              "      <th>EMAd0.1_12</th>\n",
              "      <th>DR_13</th>\n",
              "      <th>|DR|_13</th>\n",
              "      <th>EMAi0.001_13</th>\n",
              "      <th>EMAi0.01_13</th>\n",
              "      <th>EMAi0.1_13</th>\n",
              "      <th>EMAd0.001_13</th>\n",
              "      <th>EMAd0.01_13</th>\n",
              "      <th>EMAd0.1_13</th>\n",
              "      <th>DR_14</th>\n",
              "      <th>|DR|_14</th>\n",
              "      <th>EMAi0.001_14</th>\n",
              "      <th>EMAi0.01_14</th>\n",
              "      <th>EMAi0.1_14</th>\n",
              "      <th>EMAd0.001_14</th>\n",
              "      <th>EMAd0.01_14</th>\n",
              "      <th>EMAd0.1_14</th>\n",
              "      <th>DR_15</th>\n",
              "      <th>|DR|_15</th>\n",
              "      <th>EMAi0.001_15</th>\n",
              "      <th>EMAi0.01_15</th>\n",
              "      <th>EMAi0.1_15</th>\n",
              "      <th>EMAd0.001_15</th>\n",
              "      <th>EMAd0.01_15</th>\n",
              "      <th>EMAd0.1_15</th>\n",
              "      <th>DR_16</th>\n",
              "      <th>|DR|_16</th>\n",
              "      <th>EMAi0.001_16</th>\n",
              "      <th>EMAi0.01_16</th>\n",
              "      <th>EMAi0.1_16</th>\n",
              "      <th>EMAd0.001_16</th>\n",
              "      <th>EMAd0.01_16</th>\n",
              "      <th>EMAd0.1_16</th>\n",
              "    </tr>\n",
              "  </thead>\n",
              "  <tbody>\n",
              "    <tr>\n",
              "      <th>0</th>\n",
              "      <td>Ethanol low</td>\n",
              "      <td>11832.397440</td>\n",
              "      <td>2.054841</td>\n",
              "      <td>4.035633</td>\n",
              "      <td>5.094758</td>\n",
              "      <td>4.206928</td>\n",
              "      <td>-1.756381</td>\n",
              "      <td>-1.212302</td>\n",
              "      <td>-31.592879</td>\n",
              "      <td>11447.206035</td>\n",
              "      <td>2.179677</td>\n",
              "      <td>2.395270</td>\n",
              "      <td>0.634027</td>\n",
              "      <td>5.209767</td>\n",
              "      <td>-2.610743</td>\n",
              "      <td>-0.442687</td>\n",
              "      <td>-12.809656</td>\n",
              "      <td>2220.172225</td>\n",
              "      <td>2.927349</td>\n",
              "      <td>0.540490</td>\n",
              "      <td>0.520508</td>\n",
              "      <td>2.814937</td>\n",
              "      <td>-0.473143</td>\n",
              "      <td>-0.460538</td>\n",
              "      <td>-1.023486</td>\n",
              "      <td>902.723113</td>\n",
              "      <td>2.913976</td>\n",
              "      <td>-0.326335</td>\n",
              "      <td>0.125386</td>\n",
              "      <td>3.215424</td>\n",
              "      <td>-0.482709</td>\n",
              "      <td>-0.093191</td>\n",
              "      <td>-0.913171</td>\n",
              "      <td>825.029594</td>\n",
              "      <td>1.481720</td>\n",
              "      <td>0.046608</td>\n",
              "      <td>0.282725</td>\n",
              "      <td>0.469979</td>\n",
              "      <td>-0.237946</td>\n",
              "      <td>-0.126196</td>\n",
              "      <td>...</td>\n",
              "      <td>852.944171</td>\n",
              "      <td>2.751013</td>\n",
              "      <td>0.187343</td>\n",
              "      <td>1.110878</td>\n",
              "      <td>1.408352</td>\n",
              "      <td>-0.546128</td>\n",
              "      <td>-0.322896</td>\n",
              "      <td>-1.080156</td>\n",
              "      <td>1275.517414</td>\n",
              "      <td>1.687324</td>\n",
              "      <td>0.253157</td>\n",
              "      <td>0.219090</td>\n",
              "      <td>1.701560</td>\n",
              "      <td>-0.013404</td>\n",
              "      <td>-0.236002</td>\n",
              "      <td>-0.803038</td>\n",
              "      <td>908.920984</td>\n",
              "      <td>1.843649</td>\n",
              "      <td>0.179383</td>\n",
              "      <td>0.332362</td>\n",
              "      <td>0.635816</td>\n",
              "      <td>-0.163334</td>\n",
              "      <td>-0.406220</td>\n",
              "      <td>-1.238291</td>\n",
              "      <td>2097.826586</td>\n",
              "      <td>3.738868</td>\n",
              "      <td>0.618836</td>\n",
              "      <td>-1.138618</td>\n",
              "      <td>3.285446</td>\n",
              "      <td>-1.735979</td>\n",
              "      <td>-1.335254</td>\n",
              "      <td>-2.594711</td>\n",
              "      <td>2821.208767</td>\n",
              "      <td>4.043314</td>\n",
              "      <td>0.078410</td>\n",
              "      <td>0.164875</td>\n",
              "      <td>2.309107</td>\n",
              "      <td>-0.687056</td>\n",
              "      <td>-0.410994</td>\n",
              "      <td>-2.568907</td>\n",
              "    </tr>\n",
              "    <tr>\n",
              "      <th>1</th>\n",
              "      <td>Ethanol low</td>\n",
              "      <td>30476.307044</td>\n",
              "      <td>2.137585</td>\n",
              "      <td>9.113582</td>\n",
              "      <td>12.021413</td>\n",
              "      <td>0.929520</td>\n",
              "      <td>-2.036400</td>\n",
              "      <td>-3.642936</td>\n",
              "      <td>20.011835</td>\n",
              "      <td>6187.323750</td>\n",
              "      <td>1.888589</td>\n",
              "      <td>-0.314668</td>\n",
              "      <td>7.350867</td>\n",
              "      <td>14.942060</td>\n",
              "      <td>-4.735447</td>\n",
              "      <td>-4.012705</td>\n",
              "      <td>-10.072101</td>\n",
              "      <td>4817.632219</td>\n",
              "      <td>3.248219</td>\n",
              "      <td>0.544070</td>\n",
              "      <td>0.959664</td>\n",
              "      <td>0.789366</td>\n",
              "      <td>-0.691158</td>\n",
              "      <td>-0.783685</td>\n",
              "      <td>-1.151184</td>\n",
              "      <td>3772.405027</td>\n",
              "      <td>3.459047</td>\n",
              "      <td>0.411887</td>\n",
              "      <td>0.353951</td>\n",
              "      <td>1.587766</td>\n",
              "      <td>-0.512781</td>\n",
              "      <td>-0.889415</td>\n",
              "      <td>-0.841208</td>\n",
              "      <td>1574.880675</td>\n",
              "      <td>2.270866</td>\n",
              "      <td>0.261144</td>\n",
              "      <td>0.223253</td>\n",
              "      <td>0.734822</td>\n",
              "      <td>-0.176309</td>\n",
              "      <td>-0.298200</td>\n",
              "      <td>...</td>\n",
              "      <td>4326.478120</td>\n",
              "      <td>3.885044</td>\n",
              "      <td>0.616662</td>\n",
              "      <td>0.571965</td>\n",
              "      <td>1.623828</td>\n",
              "      <td>-0.536742</td>\n",
              "      <td>-1.178515</td>\n",
              "      <td>-0.746026</td>\n",
              "      <td>1580.731535</td>\n",
              "      <td>1.846994</td>\n",
              "      <td>0.277548</td>\n",
              "      <td>0.984246</td>\n",
              "      <td>1.111718</td>\n",
              "      <td>-0.201402</td>\n",
              "      <td>-0.386178</td>\n",
              "      <td>-1.412435</td>\n",
              "      <td>1396.379421</td>\n",
              "      <td>2.166268</td>\n",
              "      <td>0.365034</td>\n",
              "      <td>0.603379</td>\n",
              "      <td>1.002495</td>\n",
              "      <td>-0.356056</td>\n",
              "      <td>-0.557723</td>\n",
              "      <td>-0.880622</td>\n",
              "      <td>6353.345473</td>\n",
              "      <td>4.449844</td>\n",
              "      <td>0.590331</td>\n",
              "      <td>1.089899</td>\n",
              "      <td>2.101129</td>\n",
              "      <td>-1.064750</td>\n",
              "      <td>-2.630599</td>\n",
              "      <td>-2.627764</td>\n",
              "      <td>4297.239140</td>\n",
              "      <td>4.624300</td>\n",
              "      <td>1.289947</td>\n",
              "      <td>1.339448</td>\n",
              "      <td>1.973734</td>\n",
              "      <td>-0.958040</td>\n",
              "      <td>-2.314289</td>\n",
              "      <td>-1.105236</td>\n",
              "    </tr>\n",
              "    <tr>\n",
              "      <th>2</th>\n",
              "      <td>Ethanol low</td>\n",
              "      <td>46776.223859</td>\n",
              "      <td>3.934613</td>\n",
              "      <td>12.112267</td>\n",
              "      <td>19.675787</td>\n",
              "      <td>12.666701</td>\n",
              "      <td>-6.951612</td>\n",
              "      <td>-10.199733</td>\n",
              "      <td>-13.980553</td>\n",
              "      <td>52745.445289</td>\n",
              "      <td>2.847633</td>\n",
              "      <td>3.042398</td>\n",
              "      <td>15.121233</td>\n",
              "      <td>15.532726</td>\n",
              "      <td>-8.241655</td>\n",
              "      <td>-6.376284</td>\n",
              "      <td>-28.450125</td>\n",
              "      <td>5005.255313</td>\n",
              "      <td>4.487282</td>\n",
              "      <td>1.661489</td>\n",
              "      <td>2.371137</td>\n",
              "      <td>1.731507</td>\n",
              "      <td>-1.068215</td>\n",
              "      <td>-1.663529</td>\n",
              "      <td>-1.856873</td>\n",
              "      <td>3898.884378</td>\n",
              "      <td>4.598366</td>\n",
              "      <td>1.047656</td>\n",
              "      <td>1.575160</td>\n",
              "      <td>2.335088</td>\n",
              "      <td>-0.860873</td>\n",
              "      <td>-1.389312</td>\n",
              "      <td>-1.330135</td>\n",
              "      <td>1176.364650</td>\n",
              "      <td>1.759243</td>\n",
              "      <td>0.342629</td>\n",
              "      <td>0.556216</td>\n",
              "      <td>0.778782</td>\n",
              "      <td>-0.296377</td>\n",
              "      <td>-0.571124</td>\n",
              "      <td>...</td>\n",
              "      <td>3377.117339</td>\n",
              "      <td>4.383643</td>\n",
              "      <td>0.776944</td>\n",
              "      <td>1.406055</td>\n",
              "      <td>1.518169</td>\n",
              "      <td>-0.736625</td>\n",
              "      <td>-1.082279</td>\n",
              "      <td>-1.889659</td>\n",
              "      <td>1651.287553</td>\n",
              "      <td>2.276876</td>\n",
              "      <td>0.407521</td>\n",
              "      <td>0.845780</td>\n",
              "      <td>1.717239</td>\n",
              "      <td>-0.411592</td>\n",
              "      <td>-0.663061</td>\n",
              "      <td>-1.068422</td>\n",
              "      <td>2105.797338</td>\n",
              "      <td>2.689677</td>\n",
              "      <td>0.521188</td>\n",
              "      <td>0.861257</td>\n",
              "      <td>1.219885</td>\n",
              "      <td>-0.466823</td>\n",
              "      <td>-0.589376</td>\n",
              "      <td>-1.346558</td>\n",
              "      <td>6006.769985</td>\n",
              "      <td>5.534033</td>\n",
              "      <td>2.023403</td>\n",
              "      <td>3.091346</td>\n",
              "      <td>3.523094</td>\n",
              "      <td>-1.005115</td>\n",
              "      <td>-3.169203</td>\n",
              "      <td>-3.355358</td>\n",
              "      <td>4960.327724</td>\n",
              "      <td>4.960358</td>\n",
              "      <td>1.651419</td>\n",
              "      <td>2.529653</td>\n",
              "      <td>4.142673</td>\n",
              "      <td>-1.440085</td>\n",
              "      <td>-2.059407</td>\n",
              "      <td>-1.428642</td>\n",
              "    </tr>\n",
              "    <tr>\n",
              "      <th>3</th>\n",
              "      <td>Ethanol low</td>\n",
              "      <td>54798.219829</td>\n",
              "      <td>2.562046</td>\n",
              "      <td>9.429103</td>\n",
              "      <td>11.191144</td>\n",
              "      <td>39.567447</td>\n",
              "      <td>-7.012014</td>\n",
              "      <td>-11.103842</td>\n",
              "      <td>-21.697792</td>\n",
              "      <td>14429.066544</td>\n",
              "      <td>2.448437</td>\n",
              "      <td>10.270769</td>\n",
              "      <td>15.656240</td>\n",
              "      <td>40.789326</td>\n",
              "      <td>-7.787174</td>\n",
              "      <td>-3.522357</td>\n",
              "      <td>-6.435619</td>\n",
              "      <td>3910.637190</td>\n",
              "      <td>4.524560</td>\n",
              "      <td>1.797398</td>\n",
              "      <td>2.910233</td>\n",
              "      <td>2.098466</td>\n",
              "      <td>-0.780899</td>\n",
              "      <td>-1.956475</td>\n",
              "      <td>-1.602658</td>\n",
              "      <td>3561.134617</td>\n",
              "      <td>3.730137</td>\n",
              "      <td>1.483937</td>\n",
              "      <td>2.109420</td>\n",
              "      <td>3.108685</td>\n",
              "      <td>-1.281145</td>\n",
              "      <td>-1.616500</td>\n",
              "      <td>-1.796067</td>\n",
              "      <td>1478.267157</td>\n",
              "      <td>2.482248</td>\n",
              "      <td>0.397600</td>\n",
              "      <td>0.788913</td>\n",
              "      <td>1.282803</td>\n",
              "      <td>-0.400720</td>\n",
              "      <td>-0.517467</td>\n",
              "      <td>...</td>\n",
              "      <td>6203.962838</td>\n",
              "      <td>4.554212</td>\n",
              "      <td>1.067974</td>\n",
              "      <td>2.037063</td>\n",
              "      <td>3.404269</td>\n",
              "      <td>-0.869966</td>\n",
              "      <td>-1.223303</td>\n",
              "      <td>-1.538193</td>\n",
              "      <td>1687.891865</td>\n",
              "      <td>2.433166</td>\n",
              "      <td>0.727580</td>\n",
              "      <td>1.191447</td>\n",
              "      <td>1.635912</td>\n",
              "      <td>-0.550503</td>\n",
              "      <td>-0.565199</td>\n",
              "      <td>-1.449664</td>\n",
              "      <td>1977.103605</td>\n",
              "      <td>2.386837</td>\n",
              "      <td>0.770668</td>\n",
              "      <td>1.308883</td>\n",
              "      <td>2.050612</td>\n",
              "      <td>-0.561585</td>\n",
              "      <td>-0.749461</td>\n",
              "      <td>-1.325559</td>\n",
              "      <td>8117.194672</td>\n",
              "      <td>5.597281</td>\n",
              "      <td>2.082164</td>\n",
              "      <td>5.185015</td>\n",
              "      <td>4.911716</td>\n",
              "      <td>-1.554780</td>\n",
              "      <td>-1.795280</td>\n",
              "      <td>-3.239395</td>\n",
              "      <td>6866.144655</td>\n",
              "      <td>6.673915</td>\n",
              "      <td>1.864607</td>\n",
              "      <td>3.628086</td>\n",
              "      <td>3.363595</td>\n",
              "      <td>-1.080323</td>\n",
              "      <td>-2.350462</td>\n",
              "      <td>-1.311463</td>\n",
              "    </tr>\n",
              "    <tr>\n",
              "      <th>4</th>\n",
              "      <td>Ethanol low</td>\n",
              "      <td>76676.499583</td>\n",
              "      <td>3.618818</td>\n",
              "      <td>11.157440</td>\n",
              "      <td>12.498738</td>\n",
              "      <td>12.245432</td>\n",
              "      <td>-15.783387</td>\n",
              "      <td>-9.269518</td>\n",
              "      <td>-42.648730</td>\n",
              "      <td>59954.360872</td>\n",
              "      <td>3.268332</td>\n",
              "      <td>8.496807</td>\n",
              "      <td>10.847120</td>\n",
              "      <td>23.582465</td>\n",
              "      <td>-4.989518</td>\n",
              "      <td>-8.489500</td>\n",
              "      <td>-18.675729</td>\n",
              "      <td>6648.048210</td>\n",
              "      <td>5.066585</td>\n",
              "      <td>1.354517</td>\n",
              "      <td>2.183758</td>\n",
              "      <td>3.478559</td>\n",
              "      <td>-1.888068</td>\n",
              "      <td>-3.480959</td>\n",
              "      <td>-2.431412</td>\n",
              "      <td>6735.375825</td>\n",
              "      <td>4.878148</td>\n",
              "      <td>0.648338</td>\n",
              "      <td>3.188101</td>\n",
              "      <td>3.560048</td>\n",
              "      <td>-1.556987</td>\n",
              "      <td>-2.173078</td>\n",
              "      <td>-1.806333</td>\n",
              "      <td>2252.690694</td>\n",
              "      <td>3.245753</td>\n",
              "      <td>0.413511</td>\n",
              "      <td>0.805739</td>\n",
              "      <td>1.161638</td>\n",
              "      <td>-0.438512</td>\n",
              "      <td>-0.888743</td>\n",
              "      <td>...</td>\n",
              "      <td>5669.873611</td>\n",
              "      <td>4.866970</td>\n",
              "      <td>1.566619</td>\n",
              "      <td>2.578390</td>\n",
              "      <td>2.720519</td>\n",
              "      <td>-1.217283</td>\n",
              "      <td>-1.663491</td>\n",
              "      <td>-3.948698</td>\n",
              "      <td>2501.295740</td>\n",
              "      <td>2.989416</td>\n",
              "      <td>0.649829</td>\n",
              "      <td>1.311072</td>\n",
              "      <td>1.647370</td>\n",
              "      <td>-0.575263</td>\n",
              "      <td>-1.172635</td>\n",
              "      <td>-1.816878</td>\n",
              "      <td>2361.863431</td>\n",
              "      <td>2.936357</td>\n",
              "      <td>0.725886</td>\n",
              "      <td>1.603941</td>\n",
              "      <td>2.132060</td>\n",
              "      <td>-0.599735</td>\n",
              "      <td>-1.166084</td>\n",
              "      <td>-1.774030</td>\n",
              "      <td>8172.273285</td>\n",
              "      <td>6.484762</td>\n",
              "      <td>2.104450</td>\n",
              "      <td>5.134710</td>\n",
              "      <td>4.956465</td>\n",
              "      <td>-1.821510</td>\n",
              "      <td>-3.948034</td>\n",
              "      <td>-4.310374</td>\n",
              "      <td>7812.577275</td>\n",
              "      <td>6.942120</td>\n",
              "      <td>2.021924</td>\n",
              "      <td>3.687306</td>\n",
              "      <td>4.683224</td>\n",
              "      <td>-1.709125</td>\n",
              "      <td>-3.114449</td>\n",
              "      <td>-4.610056</td>\n",
              "    </tr>\n",
              "  </tbody>\n",
              "</table>\n",
              "<p>5 rows × 129 columns</p>\n",
              "</div>"
            ],
            "text/plain": [
              "        target          DR_1    |DR|_1  ...  EMAd0.001_16  EMAd0.01_16  EMAd0.1_16\n",
              "0  Ethanol low  11832.397440  2.054841  ...     -0.687056    -0.410994   -2.568907\n",
              "1  Ethanol low  30476.307044  2.137585  ...     -0.958040    -2.314289   -1.105236\n",
              "2  Ethanol low  46776.223859  3.934613  ...     -1.440085    -2.059407   -1.428642\n",
              "3  Ethanol low  54798.219829  2.562046  ...     -1.080323    -2.350462   -1.311463\n",
              "4  Ethanol low  76676.499583  3.618818  ...     -1.709125    -3.114449   -4.610056\n",
              "\n",
              "[5 rows x 129 columns]"
            ]
          },
          "metadata": {
            "tags": []
          },
          "execution_count": 4
        }
      ]
    },
    {
      "cell_type": "markdown",
      "metadata": {
        "id": "lCJKUyQ-sBMS"
      },
      "source": [
        "Die erste Spalte verät uns das Klassenlabel. Die erste Instanz ist demnach eine Messung am Gas Ethanol bei niedriger Konzentration. Alle weitere Spalten beinhalten Daten die zu diesem Zeitpunkt bzw. Messpunkt erhoben worden sind. <br>\n",
        "\n",
        "Rufen wir die `info()` Methode an den ersten fünf Spalten auf."
      ]
    },
    {
      "cell_type": "code",
      "metadata": {
        "id": "OnljC1VwsBMT",
        "outputId": "830d6e64-71a2-4579-e6dd-f4944be8abc2",
        "colab": {
          "base_uri": "https://localhost:8080/",
          "height": 237
        }
      },
      "source": [
        "df_modified.iloc[:,:5].info()"
      ],
      "execution_count": 8,
      "outputs": [
        {
          "output_type": "stream",
          "text": [
            "<class 'pandas.core.frame.DataFrame'>\n",
            "RangeIndex: 13910 entries, 0 to 13909\n",
            "Data columns (total 5 columns):\n",
            " #   Column       Non-Null Count  Dtype  \n",
            "---  ------       --------------  -----  \n",
            " 0   target       13910 non-null  object \n",
            " 1   DR_1         13895 non-null  float64\n",
            " 2   |DR|_1       13897 non-null  float64\n",
            " 3   EMAi0.001_1  13897 non-null  float64\n",
            " 4   EMAi0.01_1   13888 non-null  float64\n",
            "dtypes: float64(4), object(1)\n",
            "memory usage: 543.5+ KB\n"
          ],
          "name": "stdout"
        }
      ]
    },
    {
      "cell_type": "markdown",
      "metadata": {
        "id": "_GZpwK4hsBMZ"
      },
      "source": [
        "Für Pandas Indexing und Slicing siehe https://pandas.pydata.org/pandas-docs/stable/user_guide/indexing.html. <br>\n",
        "\n",
        "`info()` listet uns die verschiedene dtypes auf: vier float64 und eins vom Typ object. Anhand der unterschiedlichen Instanzen (total: 13910, DR_1: 13892, ...) erkennen wir, dass der Datensatz unvollständig ist (NaNs können ein Grund dafür sein). <br>"
      ]
    },
    {
      "cell_type": "markdown",
      "metadata": {
        "id": "mzQtu3a2sBMZ"
      },
      "source": [
        "Werfen wir als nächstes ein Blick auf die `describe()` Methode."
      ]
    },
    {
      "cell_type": "code",
      "metadata": {
        "id": "4IFDTKcnsBMa",
        "outputId": "775d6659-ae28-42a9-a505-a29606da1ae6",
        "colab": {
          "base_uri": "https://localhost:8080/",
          "height": 300
        }
      },
      "source": [
        "df_modified.iloc[:,:5].describe()"
      ],
      "execution_count": 9,
      "outputs": [
        {
          "output_type": "execute_result",
          "data": {
            "text/html": [
              "<div>\n",
              "<style scoped>\n",
              "    .dataframe tbody tr th:only-of-type {\n",
              "        vertical-align: middle;\n",
              "    }\n",
              "\n",
              "    .dataframe tbody tr th {\n",
              "        vertical-align: top;\n",
              "    }\n",
              "\n",
              "    .dataframe thead th {\n",
              "        text-align: right;\n",
              "    }\n",
              "</style>\n",
              "<table border=\"1\" class=\"dataframe\">\n",
              "  <thead>\n",
              "    <tr style=\"text-align: right;\">\n",
              "      <th></th>\n",
              "      <th>DR_1</th>\n",
              "      <th>|DR|_1</th>\n",
              "      <th>EMAi0.001_1</th>\n",
              "      <th>EMAi0.01_1</th>\n",
              "    </tr>\n",
              "  </thead>\n",
              "  <tbody>\n",
              "    <tr>\n",
              "      <th>count</th>\n",
              "      <td>13895.000000</td>\n",
              "      <td>13897.000000</td>\n",
              "      <td>13897.000000</td>\n",
              "      <td>13888.000000</td>\n",
              "    </tr>\n",
              "    <tr>\n",
              "      <th>mean</th>\n",
              "      <td>50400.118245</td>\n",
              "      <td>6.617693</td>\n",
              "      <td>12.944493</td>\n",
              "      <td>18.750815</td>\n",
              "    </tr>\n",
              "    <tr>\n",
              "      <th>std</th>\n",
              "      <td>70124.624439</td>\n",
              "      <td>13.590709</td>\n",
              "      <td>17.689098</td>\n",
              "      <td>24.991110</td>\n",
              "    </tr>\n",
              "    <tr>\n",
              "      <th>min</th>\n",
              "      <td>-31818.180553</td>\n",
              "      <td>-8.763653</td>\n",
              "      <td>-8.565950</td>\n",
              "      <td>-10.856312</td>\n",
              "    </tr>\n",
              "    <tr>\n",
              "      <th>25%</th>\n",
              "      <td>6834.149848</td>\n",
              "      <td>2.281935</td>\n",
              "      <td>1.733774</td>\n",
              "      <td>2.594912</td>\n",
              "    </tr>\n",
              "    <tr>\n",
              "      <th>50%</th>\n",
              "      <td>20934.360387</td>\n",
              "      <td>3.972188</td>\n",
              "      <td>5.230146</td>\n",
              "      <td>7.818906</td>\n",
              "    </tr>\n",
              "    <tr>\n",
              "      <th>75%</th>\n",
              "      <td>63509.899083</td>\n",
              "      <td>8.603444</td>\n",
              "      <td>17.169192</td>\n",
              "      <td>26.075490</td>\n",
              "    </tr>\n",
              "    <tr>\n",
              "      <th>max</th>\n",
              "      <td>671302.279444</td>\n",
              "      <td>1345.068265</td>\n",
              "      <td>168.026617</td>\n",
              "      <td>231.526531</td>\n",
              "    </tr>\n",
              "  </tbody>\n",
              "</table>\n",
              "</div>"
            ],
            "text/plain": [
              "                DR_1        |DR|_1   EMAi0.001_1    EMAi0.01_1\n",
              "count   13895.000000  13897.000000  13897.000000  13888.000000\n",
              "mean    50400.118245      6.617693     12.944493     18.750815\n",
              "std     70124.624439     13.590709     17.689098     24.991110\n",
              "min    -31818.180553     -8.763653     -8.565950    -10.856312\n",
              "25%      6834.149848      2.281935      1.733774      2.594912\n",
              "50%     20934.360387      3.972188      5.230146      7.818906\n",
              "75%     63509.899083      8.603444     17.169192     26.075490\n",
              "max    671302.279444   1345.068265    168.026617    231.526531"
            ]
          },
          "metadata": {
            "tags": []
          },
          "execution_count": 9
        }
      ]
    },
    {
      "cell_type": "markdown",
      "metadata": {
        "id": "x5naPVSesBMf"
      },
      "source": [
        "`describe()` bietet zusätzliche Informationen zu den jeweiligen Features. Dazu gehört die Anzahl, der Mittelwert (mean), die Standardabweichung (std) sowie das minimale, 25%, 50%, 75% und das maximale Quantil."
      ]
    },
    {
      "cell_type": "code",
      "metadata": {
        "id": "xTb4GLAysBMf",
        "outputId": "c12f651d-cc02-4740-a13f-6302481da662",
        "colab": {
          "base_uri": "https://localhost:8080/",
          "height": 366
        }
      },
      "source": [
        "df_modified['target'].value_counts()"
      ],
      "execution_count": 10,
      "outputs": [
        {
          "output_type": "execute_result",
          "data": {
            "text/plain": [
              "Aceton high           1834\n",
              "Toluol low            1425\n",
              "Ethen low             1190\n",
              "Ammoniak high         1156\n",
              "Ethanol low           1083\n",
              "Ethen high            1082\n",
              "Ethanol high           963\n",
              "Acetaldehyd high       836\n",
              "Ethen medium           654\n",
              "Aceton low             642\n",
              "Acetaldehyd low        565\n",
              "Acetaldehyd medium     535\n",
              "Aceton medium          533\n",
              "Ethanol medium         519\n",
              "Toluol medium          397\n",
              "Ammoniak medium        311\n",
              "Ammoniak low           174\n",
              "Toluol high             11\n",
              "Name: target, dtype: int64"
            ]
          },
          "metadata": {
            "tags": []
          },
          "execution_count": 10
        }
      ]
    },
    {
      "cell_type": "markdown",
      "metadata": {
        "id": "xnMVhRYfsBMl"
      },
      "source": [
        "Wir haben `value_counts()` an der `target` Spalte aufgerufen und sehen das Aceton medium mit 1924 Einträge über die meisten Messungen verfügt. Gefolgt von Toluol low und so weiter."
      ]
    },
    {
      "cell_type": "markdown",
      "metadata": {
        "id": "pIYqHpdUsBMl"
      },
      "source": [
        "### Pandas Profiling"
      ]
    },
    {
      "cell_type": "markdown",
      "metadata": {
        "id": "0wnQF690sBMm"
      },
      "source": [
        "Im folgenden soll noch Pandas Profiling vorgestellt werden. Pandas Profiling bietet ähnlich wie die `describe()` Methode statistische Auswertungen. Mehr dazu kann auf https://github.com/pandas-profiling/pandas-profiling gelesen werden. <br>\n",
        "\n",
        "Der folgende Code (auskommentiiert da dieser Schritt zeitintensiv ist) erstellt ein vollständigen Bericht und speichert diesen als `report.html` im lokalen Verzeichnis ab."
      ]
    },
    {
      "cell_type": "code",
      "metadata": {
        "id": "LGci_dH-sBMn"
      },
      "source": [
        "#profile = df_modified.profile_report(title='Pandas Profiling Report')\n",
        "#profile.to_file(output_file=\"report.html\")"
      ],
      "execution_count": null,
      "outputs": []
    }
  ]
}